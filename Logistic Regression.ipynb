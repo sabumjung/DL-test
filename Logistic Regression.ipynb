{
  "nbformat": 4,
  "nbformat_minor": 0,
  "metadata": {
    "colab": {
      "name": "Untitled26.ipynb",
      "version": "0.3.2",
      "provenance": [],
      "collapsed_sections": [],
      "include_colab_link": true
    },
    "kernelspec": {
      "name": "python2",
      "display_name": "Python 2"
    }
  },
  "cells": [
    {
      "cell_type": "markdown",
      "metadata": {
        "id": "view-in-github",
        "colab_type": "text"
      },
      "source": [
        "<a href=\"https://colab.research.google.com/github/sabumjung/Pytorch/blob/master/Logistic%20Regression.ipynb\" target=\"_parent\"><img src=\"https://colab.research.google.com/assets/colab-badge.svg\" alt=\"Open In Colab\"/></a>"
      ]
    },
    {
      "metadata": {
        "id": "L7biM4iwC7vT",
        "colab_type": "code",
        "colab": {}
      },
      "cell_type": "code",
      "source": [
        "import torch\n",
        "import torch.nn.functional as F\n",
        " \n",
        "class MyModel(torch.nn.Module):\n",
        "     \n",
        "    def __init__(self):\n",
        "        super(MyModel,self).__init__()\n",
        "        self.linear = torch.nn.Linear(1,1)\n",
        "         \n",
        "    def forward(self,x):\n",
        "        y_pred = F.sigmoid(self.linear(x))\n",
        "        return y_pred\n"
      ],
      "execution_count": 0,
      "outputs": []
    },
    {
      "metadata": {
        "id": "A23YXk4YC_3B",
        "colab_type": "code",
        "colab": {
          "base_uri": "https://localhost:8080/",
          "height": 361
        },
        "outputId": "62d813d0-7190-41aa-a047-bd7b0bcbd2e8"
      },
      "cell_type": "code",
      "source": [
        "x_data = torch.Tensor( [ [1.0],[2.0],[3.0],[4.0] ])\n",
        "y_data = torch.Tensor( [ [0.],[0.],[1.],[1.] ])\n",
        " \n",
        "model = MyModel()\n",
        "criterion = torch.nn.BCELoss(size_average=True)\n",
        "optimizer = torch.optim.SGD(model.parameters(),lr=0.01)\n",
        " \n",
        "for epoch in range(1000):\n",
        "     \n",
        "    y_pred = model(x_data)\n",
        "     \n",
        "    loss = criterion(y_pred,y_data)\n",
        "    if(epoch%100==0):\n",
        "        print(epoch, loss.data[0])\n",
        "\n",
        "    # gradient를 0으로 초기화\n",
        "    optimizer.zero_grad()\n",
        "    # backpropagation을 실행, optimizer시작\n",
        "    loss.backward()\n",
        "    optimizer.step()\n",
        "     \n",
        "hour_var = torch.Tensor([[1.0]])\n",
        "print(\"1hour : \",1.0, model(hour_var).data[0][0]>0.5)\n",
        "hour_var = torch.Tensor([[7.0]])\n",
        "print(\"7hour : \",7.0, model(hour_var).data[0][0]>0.5)\n"
      ],
      "execution_count": 2,
      "outputs": [
        {
          "output_type": "stream",
          "text": [
            "/usr/local/lib/python2.7/dist-packages/torch/nn/functional.py:52: UserWarning: size_average and reduce args will be deprecated, please use reduction='elementwise_mean' instead.\n",
            "  warnings.warn(warning.format(ret))\n",
            "/usr/local/lib/python2.7/dist-packages/torch/nn/functional.py:1006: UserWarning: nn.functional.sigmoid is deprecated. Use torch.sigmoid instead.\n",
            "  warnings.warn(\"nn.functional.sigmoid is deprecated. Use torch.sigmoid instead.\")\n",
            "/usr/local/lib/python2.7/dist-packages/ipykernel_launcher.py:14: UserWarning: invalid index of a 0-dim tensor. This will be an error in PyTorch 0.5. Use tensor.item() to convert a 0-dim tensor to a Python number\n",
            "  \n"
          ],
          "name": "stderr"
        },
        {
          "output_type": "stream",
          "text": [
            "(0, tensor(0.5838))\n",
            "(100, tensor(0.5353))\n",
            "(200, tensor(0.5155))\n",
            "(300, tensor(0.4982))\n",
            "(400, tensor(0.4821))\n",
            "(500, tensor(0.4671))\n",
            "(600, tensor(0.4530))\n",
            "(700, tensor(0.4397))\n",
            "(800, tensor(0.4273))\n",
            "(900, tensor(0.4157))\n",
            "('1hour : ', 1.0, tensor(0, dtype=torch.uint8))\n",
            "('7hour : ', 7.0, tensor(1, dtype=torch.uint8))\n"
          ],
          "name": "stdout"
        }
      ]
    },
    {
      "metadata": {
        "id": "4UNWpZe7DJgB",
        "colab_type": "code",
        "colab": {}
      },
      "cell_type": "code",
      "source": [
        ""
      ],
      "execution_count": 0,
      "outputs": []
    }
  ]
}