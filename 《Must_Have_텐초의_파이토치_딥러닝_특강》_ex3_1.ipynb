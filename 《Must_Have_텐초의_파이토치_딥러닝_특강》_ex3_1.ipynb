{
  "nbformat": 4,
  "nbformat_minor": 0,
  "metadata": {
    "colab": {
      "provenance": [],
      "include_colab_link": true
    },
    "kernelspec": {
      "name": "python3",
      "display_name": "Python 3"
    },
    "language_info": {
      "name": "python"
    }
  },
  "cells": [
    {
      "cell_type": "markdown",
      "metadata": {
        "id": "view-in-github",
        "colab_type": "text"
      },
      "source": [
        "<a href=\"https://colab.research.google.com/github/sabumjung/DL-test/blob/master/%E3%80%8AMust_Have_%ED%85%90%EC%B4%88%EC%9D%98_%ED%8C%8C%EC%9D%B4%ED%86%A0%EC%B9%98_%EB%94%A5%EB%9F%AC%EB%8B%9D_%ED%8A%B9%EA%B0%95%E3%80%8B_ex3_1.ipynb\" target=\"_parent\"><img src=\"https://colab.research.google.com/assets/colab-badge.svg\" alt=\"Open In Colab\"/></a>"
      ]
    },
    {
      "cell_type": "markdown",
      "source": [
        "# 필요한 라이브러리 불러오기"
      ],
      "metadata": {
        "id": "iiwvaOhT3xFs"
      }
    },
    {
      "cell_type": "code",
      "source": [
        "import math\n",
        "import torch\n",
        "import matplotlib.pyplot as plt"
      ],
      "metadata": {
        "id": "RU0iyflq3wfS"
      },
      "execution_count": 1,
      "outputs": []
    },
    {
      "cell_type": "markdown",
      "source": [
        "# ❶ -pi부터 pi사이에서 점을 1000개 추출"
      ],
      "metadata": {
        "id": "Peq1Fjbm33lM"
      }
    },
    {
      "cell_type": "code",
      "source": [
        "x = torch.linspace(-math.pi, math.pi, 1000) "
      ],
      "metadata": {
        "id": "2rNlQcpW35gf"
      },
      "execution_count": 2,
      "outputs": []
    },
    {
      "cell_type": "markdown",
      "source": [
        "# ❷ 실제 사인곡선에서 추출한 값으로 y 만들기"
      ],
      "metadata": {
        "id": "rxXrZ_Mi37mz"
      }
    },
    {
      "cell_type": "code",
      "source": [
        "y = torch.sin(x) "
      ],
      "metadata": {
        "id": "OouXvCVR395w"
      },
      "execution_count": 3,
      "outputs": []
    },
    {
      "cell_type": "markdown",
      "source": [
        "# ❸ 임의의 가중치(계수)를 뽑아 예측용 y 만들기"
      ],
      "metadata": {
        "id": "3YVOcc4X3_tr"
      }
    },
    {
      "cell_type": "code",
      "source": [
        "a = torch.randn(())\n",
        "b = torch.randn(())\n",
        "c = torch.randn(())\n",
        "d = torch.randn(())"
      ],
      "metadata": {
        "id": "ZxazTIMa4CCZ"
      },
      "execution_count": 4,
      "outputs": []
    },
    {
      "cell_type": "markdown",
      "source": [
        "# 사인 함수를 근사할 3차 다항식 정의"
      ],
      "metadata": {
        "id": "cQ1hWIwX4Dyt"
      }
    },
    {
      "cell_type": "code",
      "source": [
        "y_random = a * x**3 + b * x**2 + c * x + d"
      ],
      "metadata": {
        "id": "_UulGONb4FQ6"
      },
      "execution_count": 5,
      "outputs": []
    },
    {
      "cell_type": "markdown",
      "source": [
        "# 그래프 출력하기"
      ],
      "metadata": {
        "id": "5h1Jnd6X4Gjw"
      }
    },
    {
      "cell_type": "code",
      "source": [
        "# ➍ 실제 y값으로 사인곡선 만들기\n",
        "plt.subplot(2, 1, 1)\n",
        "plt.title(\"y true\")\n",
        "plt.plot(x, y)\n",
        "\n",
        "# ➎ 임의의 가중치로 만든 예측용 y값으로 사인곡선 만들기\n",
        "\n",
        "plt.subplot(2, 1, 2)\n",
        "plt.title(\"y radnom\")\n",
        "plt.plot(x, y_random)\n",
        "\n",
        "# ➏ 그래프 출력하기\n",
        "plt.show()"
      ],
      "metadata": {
        "colab": {
          "base_uri": "https://localhost:8080/",
          "height": 281
        },
        "id": "4ra67HIH4Hv3",
        "outputId": "f6e6b12e-404d-494a-827c-4a15f9ff3136"
      },
      "execution_count": 6,
      "outputs": [
        {
          "output_type": "display_data",
          "data": {
            "text/plain": [
              "<Figure size 432x288 with 2 Axes>"
            ],
            "image/png": "[encoded data removed]"
          },
          "metadata": {
            "needs_background": "light"
          }
        }
      ]
    },
    {
      "cell_type": "markdown",
      "source": [
        "# 학습 전후 비교해보기"
      ],
      "metadata": {
        "id": "rFjTJzoj4xfd"
      }
    },
    {
      "cell_type": "code",
      "source": [
        "learning_rate = 1e-6 # 학습률 정의\n",
        "\n",
        "for epoch in range(2000): # 학습 2000번 진행\n",
        "   y_pred = a * x**3 + b * x**2 + c * x + d\n",
        "\n",
        "   # 손실함수를 MSE로 정의함\n",
        "   loss = (y_pred - y).pow(2).sum().item() # ❶ 손실 정의\n",
        "   \n",
        "   # 100 iteration마다 MSE값을 출력\n",
        "   if epoch % 100 == 0:\n",
        "       print(f\"epoch{epoch+1} loss:{loss}\")\n",
        "\n",
        "   # 손실함수를 미분함\n",
        "   grad_y_pred = 2.0 * (y_pred - y) # ❷ 기울기의 미분값\n",
        "\n",
        "   grad_a = (grad_y_pred * x ** 3).sum()\n",
        "   grad_b = (grad_y_pred * x ** 2).sum()\n",
        "   grad_c = (grad_y_pred * x).sum()\n",
        "   grad_d = grad_y_pred.sum()\n",
        "\n",
        "   # 기울기(Gradient)를 이용하여 가중치를 업데이트\n",
        "   # 가중치는 기울기의 반대방향으로 움직인다.(학습률 고려함)\n",
        "   a -= learning_rate * grad_a # ❸ 가중치 업데이트\n",
        "   b -= learning_rate * grad_b\n",
        "   c -= learning_rate * grad_c\n",
        "   d -= learning_rate * grad_d\n",
        "\n",
        "# 첫번째 그림 : 원래 그래프, 두번째 그림 : 예측, 세번째 그림 : 랜덤\n",
        "plt.subplot(3, 1, 1)\n",
        "plt.title(\"y true\")\n",
        "plt.plot(x, y)\n",
        "plt.subplot(3, 1, 2)\n",
        "plt.title(\"y pred\")\n",
        "plt.plot(x, y_pred)\n",
        "plt.subplot(3, 1, 3)\n",
        "plt.plot(y_random)\n",
        "plt.title(\"y random\")\n",
        "plt.show()"
      ],
      "metadata": {
        "colab": {
          "base_uri": "https://localhost:8080/",
          "height": 648
        },
        "id": "SdBeK0iU4yn3",
        "outputId": "1c924f26-8e50-4f81-992e-d5e8acc111ad"
      },
      "execution_count": 7,
      "outputs": [
        {
          "output_type": "stream",
          "name": "stdout",
          "text": [
            "epoch1 loss:199357.703125\n",
            "epoch101 loss:1310.6314697265625\n",
            "epoch201 loss:1070.625\n",
            "epoch301 loss:876.0852661132812\n",
            "epoch401 loss:717.154541015625\n",
            "epoch501 loss:587.2962646484375\n",
            "epoch601 loss:481.1768493652344\n",
            "epoch701 loss:394.4439697265625\n",
            "epoch801 loss:323.54522705078125\n",
            "epoch901 loss:265.58087158203125\n",
            "epoch1001 loss:218.1836700439453\n",
            "epoch1101 loss:179.42095947265625\n",
            "epoch1201 loss:147.71434020996094\n",
            "epoch1301 loss:121.77513122558594\n",
            "epoch1401 loss:100.55045318603516\n",
            "epoch1501 loss:83.18033599853516\n",
            "epoch1601 loss:68.96232604980469\n",
            "epoch1701 loss:57.32207107543945\n",
            "epoch1801 loss:47.790557861328125\n",
            "epoch1901 loss:39.98420715332031\n"
          ]
        },
        {
          "output_type": "display_data",
          "data": {
            "text/plain": [
              "<Figure size 432x288 with 3 Axes>"
            ],
            "image/png": "[encoded data removed]"
          },
          "metadata": {
            "needs_background": "light"
          }
        }
      ]
    },
    {
      "cell_type": "code",
      "source": [],
      "metadata": {
        "id": "o1SJKpMn40YF"
      },
      "execution_count": null,
      "outputs": []
    }
  ]
}