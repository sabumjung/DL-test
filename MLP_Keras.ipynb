{
  "nbformat": 4,
  "nbformat_minor": 0,
  "metadata": {
    "colab": {
      "name": "MLP_Keras.ipynb",
      "version": "0.3.2",
      "provenance": [],
      "collapsed_sections": [],
      "include_colab_link": true
    },
    "kernelspec": {
      "name": "python3",
      "display_name": "Python 3"
    },
    "accelerator": "GPU"
  },
  "cells": [
    {
      "cell_type": "markdown",
      "metadata": {
        "id": "view-in-github",
        "colab_type": "text"
      },
      "source": [
        "<a href=\"https://colab.research.google.com/github/sabumjung/DL-test/blob/master/MLP_Keras.ipynb\" target=\"_parent\"><img src=\"https://colab.research.google.com/assets/colab-badge.svg\" alt=\"Open In Colab\"/></a>"
      ]
    },
    {
      "cell_type": "code",
      "metadata": {
        "id": "2y04CtS1rtxW",
        "colab_type": "code",
        "colab": {
          "base_uri": "https://localhost:8080/",
          "height": 35
        },
        "outputId": "5b20f26f-89f8-48a9-a6b7-5028a2aa5536"
      },
      "source": [
        "# 라이브러리 임포트\n",
        "import numpy as np\n",
        "from keras.models import Sequential\n",
        "from keras.layers import Dense, Activation, Dropout\n",
        "from keras.utils import to_categorical, plot_model\n",
        "from keras.datasets import mnist"
      ],
      "execution_count": 1,
      "outputs": [
        {
          "output_type": "stream",
          "text": [
            "Using TensorFlow backend.\n"
          ],
          "name": "stderr"
        }
      ]
    },
    {
      "cell_type": "code",
      "metadata": {
        "id": "7bniQ3DUrw7T",
        "colab_type": "code",
        "colab": {}
      },
      "source": [
        "# 데이터 준비(훈련용, 테스트용)\n",
        "# load mnist dataset\n",
        "(x_train, y_train), (x_test, y_test) = mnist.load_data()\n",
        "# compute the number of labels\n",
        "num_labels = len(np.unique(y_train))\n",
        "# convert to one-hot vector\n",
        "y_train = to_categorical(y_train)\n",
        "y_test = to_categorical(y_test)"
      ],
      "execution_count": 0,
      "outputs": []
    },
    {
      "cell_type": "code",
      "metadata": {
        "id": "aX31adakt2s0",
        "colab_type": "code",
        "colab": {
          "base_uri": "https://localhost:8080/",
          "height": 280
        },
        "outputId": "325ca56d-4a27-46dc-c61b-f1ae4adf3914"
      },
      "source": [
        "print(np.unique(y_train))\n",
        "print(x_train.shape)\n",
        "print(x_train.shape[1]*x_train.shape[1])\n",
        "# print(np.reshape(x_train, [-1, image_size * image_size]))"
      ],
      "execution_count": 26,
      "outputs": [
        {
          "output_type": "stream",
          "text": [
            "[0. 1.]\n",
            "(60000, 28, 28)\n",
            "784\n"
          ],
          "name": "stdout"
        },
        {
          "output_type": "error",
          "ename": "AttributeError",
          "evalue": "ignored",
          "traceback": [
            "\u001b[0;31m---------------------------------------------------------------------------\u001b[0m",
            "\u001b[0;31mAttributeError\u001b[0m                            Traceback (most recent call last)",
            "\u001b[0;32m<ipython-input-26-6d3268a5147d>\u001b[0m in \u001b[0;36m<module>\u001b[0;34m()\u001b[0m\n\u001b[1;32m      2\u001b[0m \u001b[0mprint\u001b[0m\u001b[0;34m(\u001b[0m\u001b[0mx_train\u001b[0m\u001b[0;34m.\u001b[0m\u001b[0mshape\u001b[0m\u001b[0;34m)\u001b[0m\u001b[0;34m\u001b[0m\u001b[0;34m\u001b[0m\u001b[0m\n\u001b[1;32m      3\u001b[0m \u001b[0mprint\u001b[0m\u001b[0;34m(\u001b[0m\u001b[0mx_train\u001b[0m\u001b[0;34m.\u001b[0m\u001b[0mshape\u001b[0m\u001b[0;34m[\u001b[0m\u001b[0;36m1\u001b[0m\u001b[0;34m]\u001b[0m\u001b[0;34m*\u001b[0m\u001b[0mx_train\u001b[0m\u001b[0;34m.\u001b[0m\u001b[0mshape\u001b[0m\u001b[0;34m[\u001b[0m\u001b[0;36m1\u001b[0m\u001b[0;34m]\u001b[0m\u001b[0;34m)\u001b[0m\u001b[0;34m\u001b[0m\u001b[0;34m\u001b[0m\u001b[0m\n\u001b[0;32m----> 4\u001b[0;31m \u001b[0mprint\u001b[0m\u001b[0;34m(\u001b[0m\u001b[0mx_train\u001b[0m\u001b[0;34m.\u001b[0m\u001b[0mhead\u001b[0m\u001b[0;34m(\u001b[0m\u001b[0;34m)\u001b[0m\u001b[0;34m)\u001b[0m\u001b[0;34m\u001b[0m\u001b[0;34m\u001b[0m\u001b[0m\n\u001b[0m\u001b[1;32m      5\u001b[0m \u001b[0;31m# print(np.reshape(x_train, [-1, image_size * image_size]))\u001b[0m\u001b[0;34m\u001b[0m\u001b[0;34m\u001b[0m\u001b[0;34m\u001b[0m\u001b[0m\n",
            "\u001b[0;31mAttributeError\u001b[0m: 'numpy.ndarray' object has no attribute 'head'"
          ]
        }
      ]
    },
    {
      "cell_type": "code",
      "metadata": {
        "id": "0xA9Sw9hr5zD",
        "colab_type": "code",
        "colab": {}
      },
      "source": [
        "# 차원변환 및 정규화\n",
        "# image dimensions (assumed square)\n",
        "image_size = x_train.shape[1]\n",
        "input_size = image_size * image_size\n",
        "# resize and normalize\n",
        "x_train = np.reshape(x_train, [-1, input_size])\n",
        "x_train = x_train.astype('float32') / 255\n",
        "x_test = np.reshape(x_test, [-1, input_size])\n",
        "x_test = x_test.astype('float32') / 255"
      ],
      "execution_count": 0,
      "outputs": []
    },
    {
      "cell_type": "code",
      "metadata": {
        "id": "-TSaMs3kr83O",
        "colab_type": "code",
        "colab": {}
      },
      "source": [
        "# 네트워크 파라미터 설정(배치사이즈, 히든유닛, 드롭아웃비율)\n",
        "# network parameters\n",
        "batch_size = 128\n",
        "hidden_units = 256\n",
        "dropout = 0.45"
      ],
      "execution_count": 0,
      "outputs": []
    },
    {
      "cell_type": "code",
      "metadata": {
        "id": "fmhngtVnsImB",
        "colab_type": "code",
        "colab": {
          "base_uri": "https://localhost:8080/",
          "height": 667
        },
        "outputId": "494da3a7-9ca3-4764-f066-0114a5785dcc"
      },
      "source": [
        "# 모델 구성(3개층 MLP, ReLU와 softmax를 이용한 활성화, 각 층별로 dropout적용)\n",
        "# model is a 3-layer MLP with ReLU and dropout after each layer\n",
        "model = Sequential()\n",
        "model.add(Dense(hidden_units, input_dim=input_size))\n",
        "model.add(Activation('relu'))\n",
        "model.add(Dropout(dropout))\n",
        "\n",
        "model.add(Dense(hidden_units))\n",
        "model.add(Activation('relu'))\n",
        "model.add(Dropout(dropout))\n",
        "\n",
        "model.add(Dense(num_labels))\n",
        "# this is the output for one-hot vector\n",
        "model.add(Activation('softmax'))\n",
        "\n",
        "model.summary()"
      ],
      "execution_count": 5,
      "outputs": [
        {
          "output_type": "stream",
          "text": [
            "WARNING: Logging before flag parsing goes to stderr.\n",
            "W0829 00:07:21.223780 139655676163968 deprecation_wrapper.py:119] From /usr/local/lib/python3.6/dist-packages/keras/backend/tensorflow_backend.py:74: The name tf.get_default_graph is deprecated. Please use tf.compat.v1.get_default_graph instead.\n",
            "\n",
            "W0829 00:07:21.262722 139655676163968 deprecation_wrapper.py:119] From /usr/local/lib/python3.6/dist-packages/keras/backend/tensorflow_backend.py:517: The name tf.placeholder is deprecated. Please use tf.compat.v1.placeholder instead.\n",
            "\n",
            "W0829 00:07:21.270546 139655676163968 deprecation_wrapper.py:119] From /usr/local/lib/python3.6/dist-packages/keras/backend/tensorflow_backend.py:4138: The name tf.random_uniform is deprecated. Please use tf.random.uniform instead.\n",
            "\n",
            "W0829 00:07:21.287967 139655676163968 deprecation_wrapper.py:119] From /usr/local/lib/python3.6/dist-packages/keras/backend/tensorflow_backend.py:133: The name tf.placeholder_with_default is deprecated. Please use tf.compat.v1.placeholder_with_default instead.\n",
            "\n",
            "W0829 00:07:21.299112 139655676163968 deprecation.py:506] From /usr/local/lib/python3.6/dist-packages/keras/backend/tensorflow_backend.py:3445: calling dropout (from tensorflow.python.ops.nn_ops) with keep_prob is deprecated and will be removed in a future version.\n",
            "Instructions for updating:\n",
            "Please use `rate` instead of `keep_prob`. Rate should be set to `rate = 1 - keep_prob`.\n"
          ],
          "name": "stderr"
        },
        {
          "output_type": "stream",
          "text": [
            "_________________________________________________________________\n",
            "Layer (type)                 Output Shape              Param #   \n",
            "=================================================================\n",
            "dense_1 (Dense)              (None, 256)               200960    \n",
            "_________________________________________________________________\n",
            "activation_1 (Activation)    (None, 256)               0         \n",
            "_________________________________________________________________\n",
            "dropout_1 (Dropout)          (None, 256)               0         \n",
            "_________________________________________________________________\n",
            "dense_2 (Dense)              (None, 256)               65792     \n",
            "_________________________________________________________________\n",
            "activation_2 (Activation)    (None, 256)               0         \n",
            "_________________________________________________________________\n",
            "dropout_2 (Dropout)          (None, 256)               0         \n",
            "_________________________________________________________________\n",
            "dense_3 (Dense)              (None, 10)                2570      \n",
            "_________________________________________________________________\n",
            "activation_3 (Activation)    (None, 10)                0         \n",
            "=================================================================\n",
            "Total params: 269,322\n",
            "Trainable params: 269,322\n",
            "Non-trainable params: 0\n",
            "_________________________________________________________________\n"
          ],
          "name": "stdout"
        }
      ]
    },
    {
      "cell_type": "code",
      "metadata": {
        "id": "iVAk3DtEsEH7",
        "colab_type": "code",
        "colab": {}
      },
      "source": [
        "plot_model(model, to_file='mlp-mnist.png', show_shapes=True)"
      ],
      "execution_count": 0,
      "outputs": []
    },
    {
      "cell_type": "code",
      "metadata": {
        "id": "9Jd7oJtxsO8r",
        "colab_type": "code",
        "colab": {
          "base_uri": "https://localhost:8080/",
          "height": 89
        },
        "outputId": "27174c8f-a1d6-4d2e-b55b-ce3106802270"
      },
      "source": [
        "# 손실함수, 최적화 방법, 성능평가 기준\n",
        "# loss function for one-hot vector\n",
        "# use of adam optimizer\n",
        "# accuracy is a good metric for classification tasks\n",
        "model.compile(loss='categorical_crossentropy',\n",
        "optimizer='adam',\n",
        "metrics=['accuracy'])"
      ],
      "execution_count": 7,
      "outputs": [
        {
          "output_type": "stream",
          "text": [
            "W0829 00:07:27.802554 139655676163968 deprecation_wrapper.py:119] From /usr/local/lib/python3.6/dist-packages/keras/optimizers.py:790: The name tf.train.Optimizer is deprecated. Please use tf.compat.v1.train.Optimizer instead.\n",
            "\n",
            "W0829 00:07:27.842167 139655676163968 deprecation_wrapper.py:119] From /usr/local/lib/python3.6/dist-packages/keras/backend/tensorflow_backend.py:3295: The name tf.log is deprecated. Please use tf.math.log instead.\n",
            "\n"
          ],
          "name": "stderr"
        }
      ]
    },
    {
      "cell_type": "code",
      "metadata": {
        "id": "nCBgy5kssTi9",
        "colab_type": "code",
        "colab": {
          "base_uri": "https://localhost:8080/",
          "height": 773
        },
        "outputId": "9027f6ff-48b7-4636-fafa-8ed431b4f1eb"
      },
      "source": [
        "# 모델 Training\n",
        "# train the network\n",
        "model.fit(x_train, y_train, epochs=20, batch_size=batch_size)\n",
        "# validate the model on test dataset to determine generalization\n",
        "loss, acc = model.evaluate(x_test, y_test, batch_size=batch_size)\n",
        "print(\"Test accuracy: %.1f%%\" % (100.0 * acc))"
      ],
      "execution_count": 13,
      "outputs": [
        {
          "output_type": "stream",
          "text": [
            "Epoch 1/20\n",
            "60000/60000 [==============================] - 3s 44us/step - loss: 0.0536 - acc: 0.9822\n",
            "Epoch 2/20\n",
            "60000/60000 [==============================] - 3s 42us/step - loss: 0.0512 - acc: 0.9837\n",
            "Epoch 3/20\n",
            "60000/60000 [==============================] - 3s 44us/step - loss: 0.0471 - acc: 0.9850\n",
            "Epoch 4/20\n",
            "60000/60000 [==============================] - 3s 43us/step - loss: 0.0488 - acc: 0.9844\n",
            "Epoch 5/20\n",
            "60000/60000 [==============================] - 3s 42us/step - loss: 0.0484 - acc: 0.9845\n",
            "Epoch 6/20\n",
            "60000/60000 [==============================] - 3s 45us/step - loss: 0.0470 - acc: 0.9849\n",
            "Epoch 7/20\n",
            "60000/60000 [==============================] - 3s 44us/step - loss: 0.0455 - acc: 0.9853\n",
            "Epoch 8/20\n",
            "60000/60000 [==============================] - 3s 45us/step - loss: 0.0457 - acc: 0.9859\n",
            "Epoch 9/20\n",
            "60000/60000 [==============================] - 3s 43us/step - loss: 0.0442 - acc: 0.9862\n",
            "Epoch 10/20\n",
            "60000/60000 [==============================] - 3s 44us/step - loss: 0.0423 - acc: 0.9866\n",
            "Epoch 11/20\n",
            "60000/60000 [==============================] - 3s 44us/step - loss: 0.0448 - acc: 0.9856\n",
            "Epoch 12/20\n",
            "60000/60000 [==============================] - 3s 44us/step - loss: 0.0424 - acc: 0.9863\n",
            "Epoch 13/20\n",
            "60000/60000 [==============================] - 2s 41us/step - loss: 0.0428 - acc: 0.9861\n",
            "Epoch 14/20\n",
            "60000/60000 [==============================] - 3s 44us/step - loss: 0.0414 - acc: 0.9869\n",
            "Epoch 15/20\n",
            "60000/60000 [==============================] - 3s 44us/step - loss: 0.0396 - acc: 0.9869\n",
            "Epoch 16/20\n",
            "60000/60000 [==============================] - 3s 43us/step - loss: 0.0382 - acc: 0.9881\n",
            "Epoch 17/20\n",
            "60000/60000 [==============================] - 3s 43us/step - loss: 0.0381 - acc: 0.9879\n",
            "Epoch 18/20\n",
            "60000/60000 [==============================] - 3s 44us/step - loss: 0.0386 - acc: 0.9874\n",
            "Epoch 19/20\n",
            "60000/60000 [==============================] - 3s 42us/step - loss: 0.0387 - acc: 0.9872\n",
            "Epoch 20/20\n",
            "60000/60000 [==============================] - 3s 42us/step - loss: 0.0379 - acc: 0.9877\n",
            "10000/10000 [==============================] - 0s 15us/step\n",
            "Test accuracy: 98.5%\n"
          ],
          "name": "stdout"
        }
      ]
    }
  ]
}