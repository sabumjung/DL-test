{
  "nbformat": 4,
  "nbformat_minor": 0,
  "metadata": {
    "colab": {
      "name": "SimpleRNN.ipynb",
      "version": "0.3.2",
      "provenance": [],
      "include_colab_link": true
    },
    "kernelspec": {
      "name": "python3",
      "display_name": "Python 3"
    },
    "accelerator": "GPU"
  },
  "cells": [
    {
      "cell_type": "markdown",
      "metadata": {
        "id": "view-in-github",
        "colab_type": "text"
      },
      "source": [
        "<a href=\"https://colab.research.google.com/github/sabumjung/DL-test/blob/master/SimpleRNN.ipynb\" target=\"_parent\"><img src=\"https://colab.research.google.com/assets/colab-badge.svg\" alt=\"Open In Colab\"/></a>"
      ]
    },
    {
      "cell_type": "code",
      "metadata": {
        "id": "4fJ0PuJM9wlX",
        "colab_type": "code",
        "colab": {}
      },
      "source": [
        "import numpy as np\n",
        "from keras.models import Sequential\n",
        "from keras.layers import Dense, Activation, SimpleRNN\n",
        "from keras.utils import to_categorical, plot_model\n",
        "from keras.datasets import mnist"
      ],
      "execution_count": 0,
      "outputs": []
    },
    {
      "cell_type": "code",
      "metadata": {
        "id": "mNztKrVL9zQ_",
        "colab_type": "code",
        "colab": {}
      },
      "source": [
        "# load mnist dataset\n",
        "(x_train, y_train), (x_test, y_test) = mnist.load_data()\n",
        "\n",
        "# compute the number of labels\n",
        "num_labels = len(np.unique(y_train))"
      ],
      "execution_count": 0,
      "outputs": []
    },
    {
      "cell_type": "code",
      "metadata": {
        "id": "RWmYnzkqn_Kb",
        "colab_type": "code",
        "colab": {}
      },
      "source": [
        "# convert to one-hot vector\n",
        "y_train = to_categorical(y_train)\n",
        "y_test = to_categorical(y_test)"
      ],
      "execution_count": 0,
      "outputs": []
    },
    {
      "cell_type": "code",
      "metadata": {
        "id": "liAoqe77UHCT",
        "colab_type": "code",
        "colab": {}
      },
      "source": [
        "# resize and normalize\n",
        "image_size = x_train.shape[1]\n",
        "x_train = np.reshape(x_train,[-1, image_size, image_size])\n",
        "x_test = np.reshape(x_test,[-1, image_size, image_size])\n",
        "x_train = x_train.astype('float32') / 255\n",
        "x_test = x_test.astype('float32') / 255"
      ],
      "execution_count": 0,
      "outputs": []
    },
    {
      "cell_type": "code",
      "metadata": {
        "id": "KIeBQJJDUI94",
        "colab_type": "code",
        "colab": {}
      },
      "source": [
        "# network parameters\n",
        "input_shape = (image_size, image_size)\n",
        "batch_size = 128\n",
        "units = 256\n",
        "dropout = 0.2"
      ],
      "execution_count": 0,
      "outputs": []
    },
    {
      "cell_type": "code",
      "metadata": {
        "id": "LVzNcspvUKm9",
        "colab_type": "code",
        "outputId": "a02d8f22-ed38-4ebe-f1f9-fd1cb91f8d2e",
        "colab": {
          "base_uri": "https://localhost:8080/",
          "height": 269
        }
      },
      "source": [
        "# model is RNN with 256 units, input is 28-dim vector 28 timesteps\n",
        "#\n",
        "model = Sequential()\n",
        "model.add(SimpleRNN(units=units, dropout=dropout, input_shape=input_shape))\n",
        "model.add(Dense(num_labels))\n",
        "model.add(Activation('softmax'))\n",
        "model.summary()\n",
        "# plot_model(model, to_file='rnn-mnist.png', show_shapes=True)"
      ],
      "execution_count": 48,
      "outputs": [
        {
          "output_type": "stream",
          "text": [
            "Model: \"sequential_2\"\n",
            "_________________________________________________________________\n",
            "Layer (type)                 Output Shape              Param #   \n",
            "=================================================================\n",
            "simple_rnn_2 (SimpleRNN)     (None, 256)               72960     \n",
            "_________________________________________________________________\n",
            "dense_2 (Dense)              (None, 10)                2570      \n",
            "_________________________________________________________________\n",
            "activation_2 (Activation)    (None, 10)                0         \n",
            "=================================================================\n",
            "Total params: 75,530\n",
            "Trainable params: 75,530\n",
            "Non-trainable params: 0\n",
            "_________________________________________________________________\n"
          ],
          "name": "stdout"
        }
      ]
    },
    {
      "cell_type": "code",
      "metadata": {
        "id": "VLbJXYAbUNEk",
        "colab_type": "code",
        "outputId": "b543ca8a-0b72-44ce-ca76-7c8e0750de4a",
        "colab": {
          "base_uri": "https://localhost:8080/",
          "height": 523
        }
      },
      "source": [
        "# loss function for one-hot vector\n",
        "# use of sgd optimizer\n",
        "# accuracy is good metric for classification tasks\n",
        "model.compile(loss='categorical_crossentropy', optimizer='sgd', metrics=['accuracy'])\n",
        "# train the network\n",
        "simpleRNN_history=model.fit(x_train, y_train, epochs=10, batch_size=batch_size, validation_data=(x_test, y_test),verbose=2).history\n",
        "loss, acc= model.evaluate(x_test, y_test, batch_size=batch_size)\n",
        "print(\"\\nTest accuracy: %.1f%%\" % (100.0 * acc))"
      ],
      "execution_count": 49,
      "outputs": [
        {
          "output_type": "stream",
          "text": [
            "W0904 01:24:54.690642 139753860929408 deprecation.py:323] From /usr/local/lib/python3.6/dist-packages/tensorflow/python/ops/math_grad.py:1250: add_dispatch_support.<locals>.wrapper (from tensorflow.python.ops.array_ops) is deprecated and will be removed in a future version.\n",
            "Instructions for updating:\n",
            "Use tf.where in 2.0, which has the same broadcast rule as np.where\n"
          ],
          "name": "stderr"
        },
        {
          "output_type": "stream",
          "text": [
            "Train on 60000 samples, validate on 10000 samples\n",
            "Epoch 1/10\n",
            " - 13s - loss: 0.8005 - acc: 0.7632 - val_loss: 0.3877 - val_acc: 0.8911\n",
            "Epoch 2/10\n",
            " - 8s - loss: 0.3643 - acc: 0.8915 - val_loss: 0.2188 - val_acc: 0.9356\n",
            "Epoch 3/10\n",
            " - 8s - loss: 0.2679 - acc: 0.9206 - val_loss: 0.1756 - val_acc: 0.9501\n",
            "Epoch 4/10\n",
            " - 8s - loss: 0.2221 - acc: 0.9328 - val_loss: 0.1487 - val_acc: 0.9562\n",
            "Epoch 5/10\n",
            " - 8s - loss: 0.1932 - acc: 0.9425 - val_loss: 0.1378 - val_acc: 0.9597\n",
            "Epoch 6/10\n",
            " - 8s - loss: 0.1773 - acc: 0.9465 - val_loss: 0.1622 - val_acc: 0.9524\n",
            "Epoch 7/10\n",
            " - 8s - loss: 0.1593 - acc: 0.9524 - val_loss: 0.1173 - val_acc: 0.9637\n",
            "Epoch 8/10\n",
            " - 8s - loss: 0.1471 - acc: 0.9558 - val_loss: 0.0950 - val_acc: 0.9710\n",
            "Epoch 9/10\n",
            " - 8s - loss: 0.1389 - acc: 0.9582 - val_loss: 0.0960 - val_acc: 0.9700\n",
            "Epoch 10/10\n",
            " - 8s - loss: 0.1322 - acc: 0.9596 - val_loss: 0.0893 - val_acc: 0.9715\n",
            "10000/10000 [==============================] - 1s 89us/step\n",
            "\n",
            "Test accuracy: 97.2%\n"
          ],
          "name": "stdout"
        }
      ]
    },
    {
      "cell_type": "code",
      "metadata": {
        "id": "cDPsQnj69H1a",
        "colab_type": "code",
        "colab": {
          "base_uri": "https://localhost:8080/",
          "height": 737
        },
        "outputId": "3d574f39-0fdd-429f-d01d-30fbc00ee722"
      },
      "source": [
        "simpleRNN_history"
      ],
      "execution_count": 55,
      "outputs": [
        {
          "output_type": "execute_result",
          "data": {
            "text/plain": [
              "{'acc': [0.7631666666666667,\n",
              "  0.8915,\n",
              "  0.9205666666984558,\n",
              "  0.9328333333651225,\n",
              "  0.9424833333015442,\n",
              "  0.9464833333651225,\n",
              "  0.9523666666666667,\n",
              "  0.9558333333015442,\n",
              "  0.9581666666348775,\n",
              "  0.9596333333651225],\n",
              " 'loss': [0.8004776435852051,\n",
              "  0.36434706177711484,\n",
              "  0.2678532984654109,\n",
              "  0.22206266442934672,\n",
              "  0.19319345789750417,\n",
              "  0.1772740926424662,\n",
              "  0.15930479118029275,\n",
              "  0.14710772656202317,\n",
              "  0.1389069123586019,\n",
              "  0.13218222084442774],\n",
              " 'val_acc': [0.8911,\n",
              "  0.9356,\n",
              "  0.9501,\n",
              "  0.9562,\n",
              "  0.9597,\n",
              "  0.9524,\n",
              "  0.9637,\n",
              "  0.971,\n",
              "  0.97,\n",
              "  0.9715],\n",
              " 'val_loss': [0.3876746600151062,\n",
              "  0.21883693885803224,\n",
              "  0.17564817222356796,\n",
              "  0.14872390732765198,\n",
              "  0.13778951908648013,\n",
              "  0.1622242390036583,\n",
              "  0.11727728569805622,\n",
              "  0.09498763573169708,\n",
              "  0.09603580140694976,\n",
              "  0.08928517366051673]}"
            ]
          },
          "metadata": {
            "tags": []
          },
          "execution_count": 55
        }
      ]
    },
    {
      "cell_type": "code",
      "metadata": {
        "id": "yxP9pF0KUPDl",
        "colab_type": "code",
        "outputId": "c2a4df40-ac07-4c57-8218-3c91d468b697",
        "colab": {
          "base_uri": "https://localhost:8080/",
          "height": 295
        }
      },
      "source": [
        "import matplotlib.pyplot as plt\n",
        "plt.plot(simpleRNN_history['acc'], linewidth=2, label='acc')\n",
        "plt.plot(simpleRNN_history['val_acc'], linewidth=1, label='valid_acc')\n",
        "plt.title('Model Acc')\n",
        "plt.ylabel('Acc')\n",
        "plt.xlabel('Epoch')\n",
        "plt.legend(loc=\"lower right\")\n",
        "plt.grid()\n",
        "plt.show()"
      ],
      "execution_count": 60,
      "outputs": [
        {
          "output_type": "display_data",
          "data": {
            "image/png": "[encoded data removed]",
            "text/plain": [
              "<Figure size 432x288 with 1 Axes>"
            ]
          },
          "metadata": {
            "tags": []
          }
        }
      ]
    },
    {
      "cell_type": "code",
      "metadata": {
        "id": "gWNPUBI_ZifR",
        "colab_type": "code",
        "outputId": "171e474f-8a28-4fb6-8bd7-f3516fee95e8",
        "colab": {
          "base_uri": "https://localhost:8080/",
          "height": 295
        }
      },
      "source": [
        "plt.plot(simpleRNN_history['loss'], linewidth=2, label='loss')\n",
        "plt.plot(simpleRNN_history['val_loss'], linewidth=1, label='valid_loss')\n",
        "plt.title('Model Loss')\n",
        "plt.ylabel('Loss')\n",
        "plt.xlabel('Epoch')\n",
        "plt.legend(loc=\"upper right\")\n",
        "plt.grid()\n",
        "plt.show()"
      ],
      "execution_count": 61,
      "outputs": [
        {
          "output_type": "display_data",
          "data": {
            "image/png": "[encoded data removed]",
            "text/plain": [
              "<Figure size 432x288 with 1 Axes>"
            ]
          },
          "metadata": {
            "tags": []
          }
        }
      ]
    },
    {
      "cell_type": "code",
      "metadata": {
        "id": "qLAiUg35ZuOS",
        "colab_type": "code",
        "colab": {}
      },
      "source": [
        ""
      ],
      "execution_count": 0,
      "outputs": []
    }
  ]
}