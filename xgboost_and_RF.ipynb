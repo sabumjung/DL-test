{
  "nbformat": 4,
  "nbformat_minor": 0,
  "metadata": {
    "colab": {
      "name": "xgboost and RF.ipynb",
      "provenance": [],
      "authorship_tag": "ABX9TyMUD/R0jm9ahemb1OJZy61h",
      "include_colab_link": true
    },
    "kernelspec": {
      "name": "python3",
      "display_name": "Python 3"
    },
    "language_info": {
      "name": "python"
    }
  },
  "cells": [
    {
      "cell_type": "markdown",
      "metadata": {
        "id": "view-in-github",
        "colab_type": "text"
      },
      "source": [
        "<a href=\"https://colab.research.google.com/github/sabumjung/DL-test/blob/master/xgboost_and_RF.ipynb\" target=\"_parent\"><img src=\"https://colab.research.google.com/assets/colab-badge.svg\" alt=\"Open In Colab\"/></a>"
      ]
    },
    {
      "cell_type": "markdown",
      "source": [
        "### Install library via pip"
      ],
      "metadata": {
        "id": "EKNnom9F0iWN"
      }
    },
    {
      "cell_type": "code",
      "execution_count": 1,
      "metadata": {
        "colab": {
          "base_uri": "https://localhost:8080/"
        },
        "id": "I1T4G9bLxcTy",
        "outputId": "e8f4bfc8-5a3a-421f-fb3f-788ff27dd1c9"
      },
      "outputs": [
        {
          "output_type": "stream",
          "name": "stdout",
          "text": [
            "Collecting bayesian-optimization\n",
            "  Downloading bayesian-optimization-1.2.0.tar.gz (14 kB)\n",
            "Requirement already satisfied: numpy>=1.9.0 in /usr/local/lib/python3.7/dist-packages (from bayesian-optimization) (1.21.5)\n",
            "Requirement already satisfied: scipy>=0.14.0 in /usr/local/lib/python3.7/dist-packages (from bayesian-optimization) (1.4.1)\n",
            "Requirement already satisfied: scikit-learn>=0.18.0 in /usr/local/lib/python3.7/dist-packages (from bayesian-optimization) (1.0.2)\n",
            "Requirement already satisfied: threadpoolctl>=2.0.0 in /usr/local/lib/python3.7/dist-packages (from scikit-learn>=0.18.0->bayesian-optimization) (3.1.0)\n",
            "Requirement already satisfied: joblib>=0.11 in /usr/local/lib/python3.7/dist-packages (from scikit-learn>=0.18.0->bayesian-optimization) (1.1.0)\n",
            "Building wheels for collected packages: bayesian-optimization\n",
            "  Building wheel for bayesian-optimization (setup.py) ... \u001b[?25l\u001b[?25hdone\n",
            "  Created wheel for bayesian-optimization: filename=bayesian_optimization-1.2.0-py3-none-any.whl size=11685 sha256=c25ecd5d2a39889a978a9b84e46e0997fd63114d2bd8cea7f0752e1169763e0c\n",
            "  Stored in directory: /root/.cache/pip/wheels/fd/9b/71/f127d694e02eb40bcf18c7ae9613b88a6be4470f57a8528c5b\n",
            "Successfully built bayesian-optimization\n",
            "Installing collected packages: bayesian-optimization\n",
            "Successfully installed bayesian-optimization-1.2.0\n"
          ]
        }
      ],
      "source": [
        "!pip install bayesian-optimization"
      ]
    },
    {
      "cell_type": "markdown",
      "source": [
        "## Import required libraries"
      ],
      "metadata": {
        "id": "u4vS5iYr0r2K"
      }
    },
    {
      "cell_type": "code",
      "source": [
        "#Import libraries\n",
        "import pandas as pd\n",
        "import numpy as np\n",
        "from bayes_opt import BayesianOptimization\n",
        "from sklearn.ensemble import RandomForestClassifier\n",
        "from sklearn.preprocessing import MinMaxScaler\n",
        "from sklearn.model_selection import cross_val_score\n",
        "import xgboost as xgb"
      ],
      "metadata": {
        "id": "FrBO1I8KxjHW"
      },
      "execution_count": 41,
      "outputs": []
    },
    {
      "cell_type": "markdown",
      "source": [
        "## We define a function to run Bayesian optimization given data, function to optimize and its hyperparameters:"
      ],
      "metadata": {
        "id": "kU7mtlHMx52V"
      }
    },
    {
      "cell_type": "code",
      "source": [
        "#Bayesian optimization\n",
        "def bayesian_optimization(dataset, function, parameters):\n",
        "   X_train, y_train, X_test, y_test = dataset\n",
        "   n_iterations = 5\n",
        "   gp_params = {\"alpha\": 1e-4}\n",
        "\n",
        "   BO = BayesianOptimization(function, parameters)\n",
        "   BO.maximize(n_iter=n_iterations, **gp_params)\n",
        "\n",
        "   return BO.max"
      ],
      "metadata": {
        "id": "LqzAz-Yexjvb"
      },
      "execution_count": 3,
      "outputs": []
    },
    {
      "cell_type": "code",
      "source": [
        "def rfc_optimization(cv_splits):\n",
        "    def function(n_estimators, max_depth, min_samples_split):\n",
        "        return cross_val_score(\n",
        "               RandomForestClassifier(\n",
        "                   n_estimators=int(max(n_estimators,0)),                                                               \n",
        "                   max_depth=int(max(max_depth,1)),\n",
        "                   min_samples_split=int(max(min_samples_split,2)), \n",
        "                   n_jobs=-1, \n",
        "                   random_state=42,   \n",
        "                   class_weight=\"balanced\"),  \n",
        "               X=X_train, \n",
        "               y=y_train, \n",
        "               cv=cv_splits,\n",
        "               scoring=\"roc_auc\",\n",
        "               n_jobs=-1).mean()\n",
        "\n",
        "    parameters = {\"n_estimators\": (10, 1000),\n",
        "                  \"max_depth\": (1, 150),\n",
        "                  \"min_samples_split\": (2, 10)}\n",
        "    \n",
        "    return function, parameters"
      ],
      "metadata": {
        "id": "I24qY0yoxmF6"
      },
      "execution_count": 4,
      "outputs": []
    },
    {
      "cell_type": "code",
      "source": [
        "def xgb_optimization(cv_splits, eval_set):\n",
        "    def function(eta, gamma, max_depth):\n",
        "            return cross_val_score(\n",
        "                   xgb.XGBClassifier(\n",
        "                       objective=\"binary:logistic\",\n",
        "                       learning_rate=max(eta, 0),\n",
        "                       gamma=max(gamma, 0),\n",
        "                       max_depth=int(max_depth),                                               \n",
        "                       seed=42,\n",
        "                       nthread=-1,\n",
        "                       scale_pos_weight = len(y_train[y_train == 0])/\n",
        "                                          len(y_train[y_train == 1])),  \n",
        "                   X=X_train, \n",
        "                   y=y_train, \n",
        "                   cv=cv_splits,\n",
        "                   scoring=\"roc_auc\",\n",
        "                   fit_params={\n",
        "                        \"early_stopping_rounds\": 10, \n",
        "                        \"eval_metric\": \"auc\", \n",
        "                        \"eval_set\": eval_set},\n",
        "                   n_jobs=-1).mean()\n",
        "\n",
        "    parameters = {\"eta\": (0.001, 0.4),\n",
        "                  \"gamma\": (0, 20),\n",
        "                  \"max_depth\": (1, 2000)}\n",
        "    \n",
        "    return function, parameters"
      ],
      "metadata": {
        "id": "PVVrh2M3xoFi"
      },
      "execution_count": 5,
      "outputs": []
    },
    {
      "cell_type": "code",
      "source": [
        "#Train model\n",
        "def train(X_train, y_train, X_test, y_test, function, parameters):\n",
        "    dataset = (X_train, y_train, X_test, y_test)\n",
        "    cv_splits = 4\n",
        "    \n",
        "    best_solution = bayesian_optimization(dataset, function, parameters)      \n",
        "    params = best_solution[\"params\"]\n",
        "\n",
        "    model = RandomForestClassifier(\n",
        "             n_estimators=int(max(params[\"n_estimators\"], 0)),\n",
        "             max_depth=int(max(params[\"max_depth\"], 1)),\n",
        "             min_samples_split=int(max(params[\"min_samples_split\"], 2)), \n",
        "             n_jobs=-1, \n",
        "             random_state=42,   \n",
        "             class_weight=\"balanced\")\n",
        "\n",
        "    model.fit(X_train, y_train)\n",
        "    \n",
        "    return model"
      ],
      "metadata": {
        "id": "p8OSVZQSxqH7"
      },
      "execution_count": 6,
      "outputs": []
    },
    {
      "cell_type": "code",
      "source": [
        "# Prepare the data.\n",
        "from sklearn.datasets import load_breast_cancer\n",
        "cancer = load_breast_cancer()\n",
        "X = cancer[\"data\"]\n",
        "y = cancer[\"target\"]\n",
        "X_train, X_test, y_train, y_test = train_test_split(X, y,\n",
        "                                            stratify = y,\n",
        "                                        random_state = 42)"
      ],
      "metadata": {
        "id": "2xdmMjOCuQg4"
      },
      "execution_count": 48,
      "outputs": []
    },
    {
      "cell_type": "code",
      "source": [
        "scaler = MinMaxScaler()\n",
        "X_train_scaled = scaler.fit_transform(X_train)\n",
        "X_test_scaled = scaler.transform(X_test)"
      ],
      "metadata": {
        "id": "Q3BAsDMMvh9C"
      },
      "execution_count": 49,
      "outputs": []
    },
    {
      "cell_type": "code",
      "source": [
        "jj = rfc_optimization(10)\n",
        "print(jj[1])\n",
        "print(jj[0])"
      ],
      "metadata": {
        "id": "3NTwFK105e7g",
        "outputId": "5d0aaf1c-0e13-4196-d1f0-bd263f12ab01",
        "colab": {
          "base_uri": "https://localhost:8080/"
        }
      },
      "execution_count": 68,
      "outputs": [
        {
          "output_type": "stream",
          "name": "stdout",
          "text": [
            "{'n_estimators': (10, 1000), 'max_depth': (1, 150), 'min_samples_split': (2, 10)}\n",
            "<function rfc_optimization.<locals>.function at 0x7fc6ebd35320>\n"
          ]
        }
      ]
    },
    {
      "cell_type": "code",
      "source": [
        "train(X_train, y_train, X_test, y_test, function=jj[0], parameters = jj[1])"
      ],
      "metadata": {
        "colab": {
          "base_uri": "https://localhost:8080/"
        },
        "id": "RdbEXlN33C4x",
        "outputId": "c24d2f6e-8b68-48e9-eb3d-280c0b55c601"
      },
      "execution_count": 69,
      "outputs": [
        {
          "output_type": "stream",
          "name": "stdout",
          "text": [
            "|   iter    |  target   | max_depth | min_sa... | n_esti... |\n",
            "-------------------------------------------------------------\n",
            "| \u001b[0m 1       \u001b[0m | \u001b[0m 0.9928  \u001b[0m | \u001b[0m 54.29   \u001b[0m | \u001b[0m 4.513   \u001b[0m | \u001b[0m 227.3   \u001b[0m |\n",
            "| \u001b[95m 2       \u001b[0m | \u001b[95m 0.9935  \u001b[0m | \u001b[95m 62.39   \u001b[0m | \u001b[95m 8.704   \u001b[0m | \u001b[95m 579.6   \u001b[0m |\n",
            "| \u001b[0m 3       \u001b[0m | \u001b[0m 0.9934  \u001b[0m | \u001b[0m 27.43   \u001b[0m | \u001b[0m 2.74    \u001b[0m | \u001b[0m 466.1   \u001b[0m |\n",
            "| \u001b[0m 4       \u001b[0m | \u001b[0m 0.9932  \u001b[0m | \u001b[0m 111.6   \u001b[0m | \u001b[0m 5.606   \u001b[0m | \u001b[0m 128.2   \u001b[0m |\n",
            "| \u001b[95m 5       \u001b[0m | \u001b[95m 0.9937  \u001b[0m | \u001b[95m 114.1   \u001b[0m | \u001b[95m 3.086   \u001b[0m | \u001b[95m 659.0   \u001b[0m |\n",
            "| \u001b[0m 6       \u001b[0m | \u001b[0m 0.9935  \u001b[0m | \u001b[0m 69.42   \u001b[0m | \u001b[0m 5.763   \u001b[0m | \u001b[0m 759.4   \u001b[0m |\n",
            "| \u001b[0m 7       \u001b[0m | \u001b[0m 0.9937  \u001b[0m | \u001b[0m 114.2   \u001b[0m | \u001b[0m 3.402   \u001b[0m | \u001b[0m 657.9   \u001b[0m |\n",
            "| \u001b[0m 8       \u001b[0m | \u001b[0m 0.9937  \u001b[0m | \u001b[0m 149.8   \u001b[0m | \u001b[0m 8.915   \u001b[0m | \u001b[0m 997.9   \u001b[0m |\n",
            "| \u001b[0m 9       \u001b[0m | \u001b[0m 0.9932  \u001b[0m | \u001b[0m 6.034   \u001b[0m | \u001b[0m 9.23    \u001b[0m | \u001b[0m 999.7   \u001b[0m |\n",
            "| \u001b[0m 10      \u001b[0m | \u001b[0m 0.9935  \u001b[0m | \u001b[0m 148.5   \u001b[0m | \u001b[0m 2.237   \u001b[0m | \u001b[0m 891.4   \u001b[0m |\n",
            "=============================================================\n"
          ]
        },
        {
          "output_type": "execute_result",
          "data": {
            "text/plain": [
              "RandomForestClassifier(class_weight='balanced', max_depth=114,\n",
              "                       min_samples_split=3, n_estimators=659, n_jobs=-1,\n",
              "                       random_state=42)"
            ]
          },
          "metadata": {},
          "execution_count": 69
        }
      ]
    },
    {
      "cell_type": "code",
      "source": [
        "eval_set=[(X_test, y_test)]\n",
        "eval_set"
      ],
      "metadata": {
        "id": "mImD0iaY5sH_",
        "outputId": "932915b8-f14c-4750-de79-90a69b56f640",
        "colab": {
          "base_uri": "https://localhost:8080/"
        }
      },
      "execution_count": 63,
      "outputs": [
        {
          "output_type": "execute_result",
          "data": {
            "text/plain": [
              "[(array([[1.275e+01, 1.670e+01, 8.251e+01, ..., 8.045e-02, 3.071e-01,\n",
              "          8.557e-02],\n",
              "         [1.799e+01, 2.066e+01, 1.178e+02, ..., 1.974e-01, 3.060e-01,\n",
              "          8.503e-02],\n",
              "         [1.496e+01, 1.910e+01, 9.703e+01, ..., 1.489e-01, 2.962e-01,\n",
              "          8.472e-02],\n",
              "         ...,\n",
              "         [1.170e+01, 1.911e+01, 7.433e+01, ..., 5.741e-02, 3.487e-01,\n",
              "          6.958e-02],\n",
              "         [1.450e+01, 1.089e+01, 9.428e+01, ..., 1.221e-01, 2.889e-01,\n",
              "          8.006e-02],\n",
              "         [1.218e+01, 1.784e+01, 7.779e+01, ..., 5.882e-02, 2.227e-01,\n",
              "          7.376e-02]]),\n",
              "  array([1, 0, 1, 1, 0, 0, 0, 0, 0, 1, 1, 1, 0, 0, 1, 1, 0, 0, 1, 1, 0, 0,\n",
              "         1, 1, 1, 1, 1, 1, 1, 0, 1, 1, 1, 1, 1, 1, 1, 1, 0, 1, 0, 1, 0, 1,\n",
              "         1, 1, 0, 1, 0, 1, 1, 1, 1, 0, 1, 1, 1, 0, 0, 0, 1, 0, 0, 0, 1, 1,\n",
              "         0, 1, 1, 1, 1, 1, 1, 1, 1, 0, 0, 0, 0, 1, 1, 1, 1, 1, 0, 1, 0, 1,\n",
              "         1, 1, 1, 0, 1, 1, 0, 0, 0, 1, 0, 1, 0, 0, 0, 1, 1, 0, 1, 1, 0, 1,\n",
              "         0, 1, 1, 0, 1, 0, 1, 1, 0, 0, 1, 1, 0, 1, 0, 1, 1, 0, 1, 1, 1, 1,\n",
              "         1, 0, 0, 0, 1, 1, 1, 1, 1, 1, 1]))]"
            ]
          },
          "metadata": {},
          "execution_count": 63
        }
      ]
    },
    {
      "cell_type": "code",
      "source": [
        "jj1 = xgb_optimization(10, eval_set)  # cv_splits, eval_set"
      ],
      "metadata": {
        "id": "RyCy1veNx2aD"
      },
      "execution_count": 64,
      "outputs": []
    },
    {
      "cell_type": "code",
      "source": [
        "jj1[0]"
      ],
      "metadata": {
        "id": "nd1EbxEDyGUj",
        "outputId": "90f3c568-9a0d-4fa9-f61f-6713c88e732f",
        "colab": {
          "base_uri": "https://localhost:8080/"
        }
      },
      "execution_count": 65,
      "outputs": [
        {
          "output_type": "execute_result",
          "data": {
            "text/plain": [
              "<function __main__.xgb_optimization.<locals>.function>"
            ]
          },
          "metadata": {},
          "execution_count": 65
        }
      ]
    },
    {
      "cell_type": "code",
      "source": [
        "jj1[1]"
      ],
      "metadata": {
        "id": "77f-Kw-GyHad",
        "outputId": "1658d22a-48a2-4deb-adcc-3a74e4dfac76",
        "colab": {
          "base_uri": "https://localhost:8080/"
        }
      },
      "execution_count": 66,
      "outputs": [
        {
          "output_type": "execute_result",
          "data": {
            "text/plain": [
              "{'eta': (0.001, 0.4), 'gamma': (0, 20), 'max_depth': (1, 2000)}"
            ]
          },
          "metadata": {},
          "execution_count": 66
        }
      ]
    },
    {
      "cell_type": "code",
      "source": [
        "train(X_train, y_train, X_test, y_test, function=jj1[0], parameters = jj1[1])"
      ],
      "metadata": {
        "id": "p0BPeN9GyIgq",
        "outputId": "bd1968c8-4754-4e10-d15b-8b456f5787db",
        "colab": {
          "base_uri": "https://localhost:8080/",
          "height": 541
        }
      },
      "execution_count": 67,
      "outputs": [
        {
          "output_type": "stream",
          "name": "stdout",
          "text": [
            "|   iter    |  target   |    eta    |   gamma   | max_depth |\n",
            "-------------------------------------------------------------\n",
            "| \u001b[0m 1       \u001b[0m | \u001b[0m 0.9851  \u001b[0m | \u001b[0m 0.3287  \u001b[0m | \u001b[0m 4.998   \u001b[0m | \u001b[0m 1.024e+0\u001b[0m |\n",
            "| \u001b[95m 2       \u001b[0m | \u001b[95m 0.9901  \u001b[0m | \u001b[95m 0.3012  \u001b[0m | \u001b[95m 2.481   \u001b[0m | \u001b[95m 1.876e+0\u001b[0m |\n",
            "| \u001b[0m 3       \u001b[0m | \u001b[0m 0.9861  \u001b[0m | \u001b[0m 0.3177  \u001b[0m | \u001b[0m 7.451   \u001b[0m | \u001b[0m 1.684e+0\u001b[0m |\n",
            "| \u001b[0m 4       \u001b[0m | \u001b[0m 0.9813  \u001b[0m | \u001b[0m 0.3134  \u001b[0m | \u001b[0m 8.16    \u001b[0m | \u001b[0m 629.4   \u001b[0m |\n",
            "| \u001b[0m 5       \u001b[0m | \u001b[0m 0.9482  \u001b[0m | \u001b[0m 0.007783\u001b[0m | \u001b[0m 7.863   \u001b[0m | \u001b[0m 1.958e+0\u001b[0m |\n",
            "| \u001b[95m 6       \u001b[0m | \u001b[95m 0.992   \u001b[0m | \u001b[95m 0.1276  \u001b[0m | \u001b[95m 1.096   \u001b[0m | \u001b[95m 1.875e+0\u001b[0m |\n",
            "| \u001b[0m 7       \u001b[0m | \u001b[0m 0.9918  \u001b[0m | \u001b[0m 0.3692  \u001b[0m | \u001b[0m 0.04656 \u001b[0m | \u001b[0m 1.853e+0\u001b[0m |\n",
            "| \u001b[0m 8       \u001b[0m | \u001b[0m 0.9878  \u001b[0m | \u001b[0m 0.2563  \u001b[0m | \u001b[0m 1.176   \u001b[0m | \u001b[0m 1.82e+03\u001b[0m |\n",
            "| \u001b[0m 9       \u001b[0m | \u001b[0m 0.9805  \u001b[0m | \u001b[0m 0.33    \u001b[0m | \u001b[0m 18.13   \u001b[0m | \u001b[0m 1.788e+0\u001b[0m |\n",
            "| \u001b[0m 10      \u001b[0m | \u001b[0m 0.8972  \u001b[0m | \u001b[0m 0.001   \u001b[0m | \u001b[0m 20.0    \u001b[0m | \u001b[0m 1.838e+0\u001b[0m |\n",
            "=============================================================\n"
          ]
        },
        {
          "output_type": "error",
          "ename": "KeyError",
          "evalue": "ignored",
          "traceback": [
            "\u001b[0;31m---------------------------------------------------------------------------\u001b[0m",
            "\u001b[0;31mKeyError\u001b[0m                                  Traceback (most recent call last)",
            "\u001b[0;32m<ipython-input-67-5c587091f0c3>\u001b[0m in \u001b[0;36m<module>\u001b[0;34m()\u001b[0m\n\u001b[0;32m----> 1\u001b[0;31m \u001b[0mtrain\u001b[0m\u001b[0;34m(\u001b[0m\u001b[0mX_train\u001b[0m\u001b[0;34m,\u001b[0m \u001b[0my_train\u001b[0m\u001b[0;34m,\u001b[0m \u001b[0mX_test\u001b[0m\u001b[0;34m,\u001b[0m \u001b[0my_test\u001b[0m\u001b[0;34m,\u001b[0m \u001b[0mfunction\u001b[0m\u001b[0;34m=\u001b[0m\u001b[0mjj1\u001b[0m\u001b[0;34m[\u001b[0m\u001b[0;36m0\u001b[0m\u001b[0;34m]\u001b[0m\u001b[0;34m,\u001b[0m \u001b[0mparameters\u001b[0m \u001b[0;34m=\u001b[0m \u001b[0mjj1\u001b[0m\u001b[0;34m[\u001b[0m\u001b[0;36m1\u001b[0m\u001b[0;34m]\u001b[0m\u001b[0;34m)\u001b[0m\u001b[0;34m\u001b[0m\u001b[0;34m\u001b[0m\u001b[0m\n\u001b[0m",
            "\u001b[0;32m<ipython-input-6-955d0bfd84ae>\u001b[0m in \u001b[0;36mtrain\u001b[0;34m(X_train, y_train, X_test, y_test, function, parameters)\u001b[0m\n\u001b[1;32m      8\u001b[0m \u001b[0;34m\u001b[0m\u001b[0m\n\u001b[1;32m      9\u001b[0m     model = RandomForestClassifier(\n\u001b[0;32m---> 10\u001b[0;31m              \u001b[0mn_estimators\u001b[0m\u001b[0;34m=\u001b[0m\u001b[0mint\u001b[0m\u001b[0;34m(\u001b[0m\u001b[0mmax\u001b[0m\u001b[0;34m(\u001b[0m\u001b[0mparams\u001b[0m\u001b[0;34m[\u001b[0m\u001b[0;34m\"n_estimators\"\u001b[0m\u001b[0;34m]\u001b[0m\u001b[0;34m,\u001b[0m \u001b[0;36m0\u001b[0m\u001b[0;34m)\u001b[0m\u001b[0;34m)\u001b[0m\u001b[0;34m,\u001b[0m\u001b[0;34m\u001b[0m\u001b[0;34m\u001b[0m\u001b[0m\n\u001b[0m\u001b[1;32m     11\u001b[0m              \u001b[0mmax_depth\u001b[0m\u001b[0;34m=\u001b[0m\u001b[0mint\u001b[0m\u001b[0;34m(\u001b[0m\u001b[0mmax\u001b[0m\u001b[0;34m(\u001b[0m\u001b[0mparams\u001b[0m\u001b[0;34m[\u001b[0m\u001b[0;34m\"max_depth\"\u001b[0m\u001b[0;34m]\u001b[0m\u001b[0;34m,\u001b[0m \u001b[0;36m1\u001b[0m\u001b[0;34m)\u001b[0m\u001b[0;34m)\u001b[0m\u001b[0;34m,\u001b[0m\u001b[0;34m\u001b[0m\u001b[0;34m\u001b[0m\u001b[0m\n\u001b[1;32m     12\u001b[0m              \u001b[0mmin_samples_split\u001b[0m\u001b[0;34m=\u001b[0m\u001b[0mint\u001b[0m\u001b[0;34m(\u001b[0m\u001b[0mmax\u001b[0m\u001b[0;34m(\u001b[0m\u001b[0mparams\u001b[0m\u001b[0;34m[\u001b[0m\u001b[0;34m\"min_samples_split\"\u001b[0m\u001b[0;34m]\u001b[0m\u001b[0;34m,\u001b[0m \u001b[0;36m2\u001b[0m\u001b[0;34m)\u001b[0m\u001b[0;34m)\u001b[0m\u001b[0;34m,\u001b[0m\u001b[0;34m\u001b[0m\u001b[0;34m\u001b[0m\u001b[0m\n",
            "\u001b[0;31mKeyError\u001b[0m: 'n_estimators'"
          ]
        }
      ]
    },
    {
      "cell_type": "code",
      "source": [
        ""
      ],
      "metadata": {
        "id": "9WN34i6ByMNp"
      },
      "execution_count": null,
      "outputs": []
    }
  ]
}