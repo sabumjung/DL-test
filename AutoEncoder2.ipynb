{
  "nbformat": 4,
  "nbformat_minor": 0,
  "metadata": {
    "colab": {
      "name": "AutoEncoder2.ipynb",
      "version": "0.3.2",
      "provenance": [],
      "include_colab_link": true
    },
    "kernelspec": {
      "name": "python3",
      "display_name": "Python 3"
    }
  },
  "cells": [
    {
      "cell_type": "markdown",
      "metadata": {
        "id": "view-in-github",
        "colab_type": "text"
      },
      "source": [
        "<a href=\"https://colab.research.google.com/github/sabumjung/Pytorch/blob/master/AutoEncoder2.ipynb\" target=\"_parent\"><img src=\"https://colab.research.google.com/assets/colab-badge.svg\" alt=\"Open In Colab\"/></a>"
      ]
    },
    {
      "cell_type": "code",
      "metadata": {
        "id": "vH6FYFsbBCn5",
        "colab_type": "code",
        "colab": {}
      },
      "source": [
        "import os\n",
        "import sys\n",
        "sys.path.insert(0, '/content/gdrive/My Drive/Colab Notebooks/98_module/')"
      ],
      "execution_count": 0,
      "outputs": []
    },
    {
      "cell_type": "code",
      "metadata": {
        "id": "ucujAhnzBD9W",
        "colab_type": "code",
        "colab": {}
      },
      "source": [
        "from m_plot import plot\n",
        "from m_data import gn\n",
        "from m_mdl import classify, parameter_opt\n",
        "import numpy as np"
      ],
      "execution_count": 0,
      "outputs": []
    },
    {
      "cell_type": "code",
      "metadata": {
        "id": "-3XDmEIjBF4r",
        "colab_type": "code",
        "colab": {}
      },
      "source": [
        "x=np.arange(28)\n",
        "y=np.arange(28)\n",
        "a1=plot('scatterplot', x, y)\n",
        "a1.pltshow()"
      ],
      "execution_count": 0,
      "outputs": []
    },
    {
      "cell_type": "code",
      "metadata": {
        "id": "ZCz-evfGBLUX",
        "colab_type": "code",
        "colab": {
          "base_uri": "https://localhost:8080/",
          "height": 1000
        },
        "outputId": "92a04f3b-e059-49af-917e-c37a8a0737e7"
      },
      "source": [
        "from m_DLmdl import model_AE\n",
        "from keras.datasets import mnist, fashion_mnist\n",
        "import numpy as np\n",
        "import os\n",
        "import argparse\n",
        "import matplotlib\n",
        "matplotlib.use('Agg')\n",
        "import matplotlib.pyplot as plt\n",
        "import math\n",
        "\n",
        "# curdir = os.path.dirname(os.path.abspath(__file__))\n",
        "# parser = argparse.ArgumentParser()\n",
        "# parser.add_argument('--optimizer', choices=['adam', 'sgd', 'adagrad'], default='adam')\n",
        "# parser.add_argument('--loss', choices=['mean_squared_error', 'binary_crossentropy'], default='mean_squared_error')\n",
        "# parser.add_argument('--epochs', type=int, default=10)\n",
        "# parser.add_argument('--batch_size', type=int, default=64)\n",
        "# parser.add_argument('--test_samples', type=int, default=50)\n",
        "# parser.add_argument('--result', default=os.path.join(curdir, 'result.png'))\n",
        "\n",
        "class in_args:\n",
        "    def __init__(self, optimizer='adam', loss='mean_squared_error', epochs=10, batch_size=64, test_samples=50, result='result.png'):\n",
        "        self.optimizer=optimizer   # adam, sgd, adagrad\n",
        "        self.loss=loss             # mean_squared_error, binary_crossentropy\n",
        "        self.epochs=epochs\n",
        "        self.batch_size=batch_size\n",
        "        self.test_samples=test_samples\n",
        "        self.result=result\n",
        "\n",
        "\n",
        "def main(a3):\n",
        "    # prepare normal dataset (Mnist)\n",
        "    (x_train, _), (x_test, _) = mnist.load_data()\n",
        "    x_train = x_train / 255.  # normalize into [0,1]\n",
        "    x_test = x_test / 255.\n",
        "\n",
        "    # prapare abnormal dataset (Fashion Mnist)\n",
        "    (_, _), (x_abnormal, _) = fashion_mnist.load_data()\n",
        "    x_abnormal = x_abnormal / 255.\n",
        "\n",
        "    # sample args.test_samples images from eaech of x_test and x_abnormal\n",
        "    perm = np.random.permutation(a3.test_samples)\n",
        "    x_test = x_test[perm][:a3.test_samples]\n",
        "    x_abnormal = x_abnormal[perm][:a3.test_samples]\n",
        "\n",
        "    # train each model and test their capabilities of anomaly deteciton\n",
        "    model_names = ['autoencoder', 'deep_autoencoder', 'convolutional_autoencoder']\n",
        "    \n",
        "    a1=plot('linechart')    \n",
        "    \n",
        "    for model_name in model_names:\n",
        "        # instantiate model\n",
        "        model = model_AE(model_name).load_model()\n",
        "\n",
        "        # reshape input data according to the model's input tensor\n",
        "        if model_name == 'convolutional_autoencoder':\n",
        "            x_train = x_train.reshape(-1, 28, 28, 1)\n",
        "            x_test = x_test.reshape(-1, 28, 28, 1)\n",
        "            x_abnormal = x_abnormal.reshape(-1, 28, 28, 1)\n",
        "        elif model_name == 'autoencoder' or model_name == 'deep_autoencoder':\n",
        "            x_train = x_train.reshape(-1, 28 * 28)\n",
        "            x_test = x_test.reshape(-1, 28 * 28)\n",
        "            x_abnormal = x_abnormal.reshape(-1, 28 * 28)\n",
        "        else:\n",
        "            raise ValueError('Unknown model_name %s was given' % model_name)\n",
        "\n",
        "        # compile model\n",
        "        model.compile(optimizer=a3.optimizer, loss=a3.loss)\n",
        "\n",
        "        # train on only normal training data\n",
        "        model.fit(\n",
        "            x=x_train,\n",
        "            y=x_train,\n",
        "            epochs=a3.epochs,\n",
        "            batch_size=a3.batch_size,\n",
        "        )\n",
        "\n",
        "        # test\n",
        "        x_concat = np.concatenate([x_test, x_abnormal], axis=0)\n",
        "        losses = []\n",
        "        for x in x_concat:\n",
        "            # compute loss for each test sample\n",
        "            x = np.expand_dims(x, axis=0)\n",
        "            loss = model.test_on_batch(x, x)\n",
        "            losses.append(loss)\n",
        "        plt.plot(range(len(losses)), losses, linestyle='-', linewidth=1, label=model_name)\n",
        "\n",
        "        # delete model for saving memory\n",
        "        del model\n",
        "\n",
        "    # create graph\n",
        "    plt.legend(loc='best')\n",
        "    plt.grid()\n",
        "    plt.xlabel('sample index')\n",
        "    plt.ylabel('loss')\n",
        "    plt.show()\n",
        "    plt.savefig(a3.result)\n",
        "    plt.clf()\n",
        "\n",
        "\n",
        "if __name__ == '__main__':\n",
        "    a3=in_args(result='/content/gdrive/My Drive/Colab Notebooks/result.png', epochs=10, batch_size=64, test_samples=500)\n",
        "    main(a3)"
      ],
      "execution_count": 6,
      "outputs": [
        {
          "output_type": "stream",
          "text": [
            "Epoch 1/10\n",
            "60000/60000 [==============================] - 4s 65us/step - loss: 0.0325\n",
            "Epoch 2/10\n",
            "60000/60000 [==============================] - 4s 60us/step - loss: 0.0107\n",
            "Epoch 3/10\n",
            "60000/60000 [==============================] - 4s 60us/step - loss: 0.0066\n",
            "Epoch 4/10\n",
            "60000/60000 [==============================] - 4s 60us/step - loss: 0.0052\n",
            "Epoch 5/10\n",
            "60000/60000 [==============================] - 4s 59us/step - loss: 0.0047\n",
            "Epoch 6/10\n",
            "60000/60000 [==============================] - 4s 60us/step - loss: 0.0044\n",
            "Epoch 7/10\n",
            "60000/60000 [==============================] - 4s 61us/step - loss: 0.0043\n",
            "Epoch 8/10\n",
            "60000/60000 [==============================] - 4s 60us/step - loss: 0.0042\n",
            "Epoch 9/10\n",
            "60000/60000 [==============================] - 4s 61us/step - loss: 0.0041\n",
            "Epoch 10/10\n",
            "60000/60000 [==============================] - 4s 61us/step - loss: 0.0041\n",
            "Epoch 1/10\n",
            "60000/60000 [==============================] - 7s 114us/step - loss: 0.0295\n",
            "Epoch 2/10\n",
            "60000/60000 [==============================] - 7s 109us/step - loss: 0.0116\n",
            "Epoch 3/10\n",
            "60000/60000 [==============================] - 6s 107us/step - loss: 0.0093\n",
            "Epoch 4/10\n",
            "60000/60000 [==============================] - 7s 114us/step - loss: 0.0080\n",
            "Epoch 5/10\n",
            "60000/60000 [==============================] - 7s 116us/step - loss: 0.0071\n",
            "Epoch 6/10\n",
            "60000/60000 [==============================] - 7s 109us/step - loss: 0.0066\n",
            "Epoch 7/10\n",
            "60000/60000 [==============================] - 7s 110us/step - loss: 0.0062\n",
            "Epoch 8/10\n",
            "60000/60000 [==============================] - 7s 116us/step - loss: 0.0059\n",
            "Epoch 9/10\n",
            "60000/60000 [==============================] - 6s 107us/step - loss: 0.0057\n",
            "Epoch 10/10\n",
            "60000/60000 [==============================] - 6s 107us/step - loss: 0.0056\n",
            "Epoch 1/10\n",
            "60000/60000 [==============================] - 186s 3ms/step - loss: 0.1131\n",
            "Epoch 2/10\n",
            "60000/60000 [==============================] - 185s 3ms/step - loss: 0.1120\n",
            "Epoch 3/10\n",
            "60000/60000 [==============================] - 186s 3ms/step - loss: 0.1120\n",
            "Epoch 4/10\n",
            "60000/60000 [==============================] - 185s 3ms/step - loss: 0.1120\n",
            "Epoch 5/10\n",
            "60000/60000 [==============================] - 185s 3ms/step - loss: 0.1120\n",
            "Epoch 6/10\n",
            "60000/60000 [==============================] - 185s 3ms/step - loss: 0.1120\n",
            "Epoch 7/10\n",
            "60000/60000 [==============================] - 185s 3ms/step - loss: 0.1120\n",
            "Epoch 8/10\n",
            "60000/60000 [==============================] - 185s 3ms/step - loss: 0.1120\n",
            "Epoch 9/10\n",
            "60000/60000 [==============================] - 184s 3ms/step - loss: 0.1120\n",
            "Epoch 10/10\n",
            "60000/60000 [==============================] - 184s 3ms/step - loss: 0.1120\n"
          ],
          "name": "stdout"
        },
        {
          "output_type": "display_data",
          "data": {
            "text/plain": [
              "<Figure size 432x288 with 0 Axes>"
            ]
          },
          "metadata": {
            "tags": []
          }
        }
      ]
    }
  ]
}