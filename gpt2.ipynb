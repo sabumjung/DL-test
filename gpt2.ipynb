{
  "nbformat": 4,
  "nbformat_minor": 0,
  "metadata": {
    "colab": {
      "name": "gpt2.ipynb",
      "provenance": [],
      "authorship_tag": "ABX9TyPFS/eYjtuzLDNr2OcqT3UD",
      "include_colab_link": true
    },
    "kernelspec": {
      "name": "python3",
      "display_name": "Python 3"
    },
    "language_info": {
      "name": "python"
    },
    "accelerator": "GPU"
  },
  "cells": [
    {
      "cell_type": "markdown",
      "metadata": {
        "id": "view-in-github",
        "colab_type": "text"
      },
      "source": [
        "<a href=\"https://colab.research.google.com/github/sabumjung/DL-test/blob/master/gpt2.ipynb\" target=\"_parent\"><img src=\"https://colab.research.google.com/assets/colab-badge.svg\" alt=\"Open In Colab\"/></a>"
      ]
    },
    {
      "cell_type": "markdown",
      "source": [
        "Reference\n",
        "Language Models are Unsupervised Multitask Learners. Radford, A., Wu, J., Child, R., Luan, D., Amodei, D., & Sutskever, I. 2019.\n",
        "https://github.com/openai/gpt-2"
      ],
      "metadata": {
        "id": "B97B1jGtWFMW"
      }
    },
    {
      "cell_type": "code",
      "execution_count": 1,
      "metadata": {
        "colab": {
          "base_uri": "https://localhost:8080/"
        },
        "id": "ABlgA2fZV-ep",
        "outputId": "0f9d99b5-bd85-4c09-be2b-c0371fd0bcd3"
      },
      "outputs": [
        {
          "output_type": "stream",
          "name": "stdout",
          "text": [
            "fatal: destination path 'gpt-2' already exists and is not an empty directory.\n"
          ]
        }
      ],
      "source": [
        "!git clone https://github.com/openai/gpt-2"
      ]
    },
    {
      "cell_type": "code",
      "source": [
        "!ls"
      ],
      "metadata": {
        "colab": {
          "base_uri": "https://localhost:8080/"
        },
        "id": "fo844GRsWCDs",
        "outputId": "e9f58a1b-096e-43c7-bb76-e435bbafcc90"
      },
      "execution_count": 2,
      "outputs": [
        {
          "output_type": "stream",
          "name": "stdout",
          "text": [
            "gpt-2  sample_data\n"
          ]
        }
      ]
    },
    {
      "cell_type": "code",
      "source": [
        "import os\n",
        "os.chdir('gpt-2')"
      ],
      "metadata": {
        "id": "4l_gexw-WpkS"
      },
      "execution_count": 3,
      "outputs": []
    },
    {
      "cell_type": "code",
      "source": [
        "!python3 download_model.py 124M"
      ],
      "metadata": {
        "colab": {
          "base_uri": "https://localhost:8080/"
        },
        "id": "No8k-GjfWxgH",
        "outputId": "86085a58-9dd0-421b-f16f-8067b0b3753a"
      },
      "execution_count": 4,
      "outputs": [
        {
          "output_type": "stream",
          "name": "stdout",
          "text": [
            "Fetching checkpoint: 1.00kit [00:00, 866kit/s]                                                      \n",
            "Fetching encoder.json: 1.04Mit [00:01, 584kit/s]                                                    \n",
            "Fetching hparams.json: 1.00kit [00:00, 881kit/s]                                                    \n",
            "Fetching model.ckpt.data-00000-of-00001: 498Mit [01:22, 6.05Mit/s]                                  \n",
            "Fetching model.ckpt.index: 6.00kit [00:00, 4.82Mit/s]                                               \n",
            "Fetching model.ckpt.meta: 472kit [00:01, 336kit/s]                                                  \n",
            "Fetching vocab.bpe: 457kit [00:01, 383kit/s]                                                        \n"
          ]
        }
      ]
    },
    {
      "cell_type": "markdown",
      "source": [
        "### 텐서플로의 버전을 1.x로 맞추도록 한다."
      ],
      "metadata": {
        "id": "yRXCTuz8XpWX"
      }
    },
    {
      "cell_type": "code",
      "source": [
        "%tensorflow_version 1.x\n",
        "import tensorflow\n",
        "print(tensorflow.__version__)"
      ],
      "metadata": {
        "colab": {
          "base_uri": "https://localhost:8080/"
        },
        "id": "KxAJhCdLXGPe",
        "outputId": "f586f6c0-0d15-4613-d116-436feaa63613"
      },
      "execution_count": 5,
      "outputs": [
        {
          "output_type": "stream",
          "name": "stdout",
          "text": [
            "TensorFlow 1.x selected.\n",
            "1.15.2\n"
          ]
        }
      ]
    },
    {
      "cell_type": "code",
      "source": [
        "!pip3 install -r requirements.txt"
      ],
      "metadata": {
        "colab": {
          "base_uri": "https://localhost:8080/"
        },
        "id": "x2Ulf2RrXSkE",
        "outputId": "ab10d31d-ee5c-4e38-f59a-2cdbb17350d6"
      },
      "execution_count": 6,
      "outputs": [
        {
          "output_type": "stream",
          "name": "stdout",
          "text": [
            "Requirement already satisfied: fire>=0.1.3 in /usr/local/lib/python3.7/dist-packages (from -r requirements.txt (line 1)) (0.4.0)\n",
            "Requirement already satisfied: regex==2017.4.5 in /usr/local/lib/python3.7/dist-packages (from -r requirements.txt (line 2)) (2017.4.5)\n",
            "Requirement already satisfied: requests==2.21.0 in /usr/local/lib/python3.7/dist-packages (from -r requirements.txt (line 3)) (2.21.0)\n",
            "Requirement already satisfied: tqdm==4.31.1 in /usr/local/lib/python3.7/dist-packages (from -r requirements.txt (line 4)) (4.31.1)\n",
            "Requirement already satisfied: urllib3<1.25,>=1.21.1 in /usr/local/lib/python3.7/dist-packages (from requests==2.21.0->-r requirements.txt (line 3)) (1.24.3)\n",
            "Requirement already satisfied: chardet<3.1.0,>=3.0.2 in /usr/local/lib/python3.7/dist-packages (from requests==2.21.0->-r requirements.txt (line 3)) (3.0.4)\n",
            "Requirement already satisfied: idna<2.9,>=2.5 in /usr/local/lib/python3.7/dist-packages (from requests==2.21.0->-r requirements.txt (line 3)) (2.8)\n",
            "Requirement already satisfied: certifi>=2017.4.17 in /usr/local/lib/python3.7/dist-packages (from requests==2.21.0->-r requirements.txt (line 3)) (2021.10.8)\n",
            "Requirement already satisfied: termcolor in /usr/local/lib/python3.7/dist-packages (from fire>=0.1.3->-r requirements.txt (line 1)) (1.1.0)\n",
            "Requirement already satisfied: six in /usr/local/lib/python3.7/dist-packages (from fire>=0.1.3->-r requirements.txt (line 1)) (1.15.0)\n"
          ]
        }
      ]
    },
    {
      "cell_type": "code",
      "source": [
        "# 파이썬 인코딩 설정을 UTF-8로 맞춤\n",
        "!export PYTHONIOENCODING=UTF-8"
      ],
      "metadata": {
        "id": "rPyLs9o_X0bg"
      },
      "execution_count": 7,
      "outputs": []
    },
    {
      "cell_type": "code",
      "source": [
        "# 모델로 문장 생성해보기\n",
        "!python3 src/generate_unconditional_samples.py --model_name='124M' --nsamples=5 --top_k=40 --length=200 | tee samples"
      ],
      "metadata": {
        "colab": {
          "base_uri": "https://localhost:8080/"
        },
        "id": "0q7uB3vwYM3s",
        "outputId": "ee8ef321-3a92-4752-f924-977ae993a32f"
      },
      "execution_count": 9,
      "outputs": [
        {
          "output_type": "stream",
          "name": "stdout",
          "text": [
            "WARNING:tensorflow:From src/generate_unconditional_samples.py:54: The name tf.Session is deprecated. Please use tf.compat.v1.Session instead.\n",
            "\n",
            "2022-04-21 23:08:06.621523: I tensorflow/stream_executor/platform/default/dso_loader.cc:44] Successfully opened dynamic library libcuda.so.1\n",
            "2022-04-21 23:08:06.686218: I tensorflow/stream_executor/cuda/cuda_gpu_executor.cc:983] successful NUMA node read from SysFS had negative value (-1), but there must be at least one NUMA node, so returning NUMA node zero\n",
            "2022-04-21 23:08:06.686883: I tensorflow/core/common_runtime/gpu/gpu_device.cc:1639] Found device 0 with properties: \n",
            "name: Tesla T4 major: 7 minor: 5 memoryClockRate(GHz): 1.59\n",
            "pciBusID: 0000:00:04.0\n",
            "2022-04-21 23:08:06.698127: I tensorflow/stream_executor/platform/default/dso_loader.cc:44] Successfully opened dynamic library libcudart.so.10.1\n",
            "2022-04-21 23:08:06.865385: I tensorflow/stream_executor/platform/default/dso_loader.cc:44] Successfully opened dynamic library libcublas.so.10\n",
            "2022-04-21 23:08:06.963430: I tensorflow/stream_executor/platform/default/dso_loader.cc:44] Successfully opened dynamic library libcufft.so.10\n",
            "2022-04-21 23:08:06.999774: I tensorflow/stream_executor/platform/default/dso_loader.cc:44] Successfully opened dynamic library libcurand.so.10\n",
            "2022-04-21 23:08:07.165552: I tensorflow/stream_executor/platform/default/dso_loader.cc:44] Successfully opened dynamic library libcusolver.so.10\n",
            "2022-04-21 23:08:07.187458: I tensorflow/stream_executor/platform/default/dso_loader.cc:44] Successfully opened dynamic library libcusparse.so.10\n",
            "2022-04-21 23:08:07.520130: I tensorflow/stream_executor/platform/default/dso_loader.cc:44] Successfully opened dynamic library libcudnn.so.7\n",
            "2022-04-21 23:08:07.520344: I tensorflow/stream_executor/cuda/cuda_gpu_executor.cc:983] successful NUMA node read from SysFS had negative value (-1), but there must be at least one NUMA node, so returning NUMA node zero\n",
            "2022-04-21 23:08:07.521099: I tensorflow/stream_executor/cuda/cuda_gpu_executor.cc:983] successful NUMA node read from SysFS had negative value (-1), but there must be at least one NUMA node, so returning NUMA node zero\n",
            "2022-04-21 23:08:07.521639: I tensorflow/core/common_runtime/gpu/gpu_device.cc:1767] Adding visible gpu devices: 0\n",
            "2022-04-21 23:08:07.522117: I tensorflow/core/platform/cpu_feature_guard.cc:142] Your CPU supports instructions that this TensorFlow binary was not compiled to use: AVX512F\n",
            "2022-04-21 23:08:07.540739: I tensorflow/core/platform/profile_utils/cpu_utils.cc:94] CPU Frequency: 2000160000 Hz\n",
            "2022-04-21 23:08:07.541056: I tensorflow/compiler/xla/service/service.cc:168] XLA service 0x55fc5ac55d40 initialized for platform Host (this does not guarantee that XLA will be used). Devices:\n",
            "2022-04-21 23:08:07.541089: I tensorflow/compiler/xla/service/service.cc:176]   StreamExecutor device (0): Host, Default Version\n",
            "2022-04-21 23:08:07.676688: I tensorflow/stream_executor/cuda/cuda_gpu_executor.cc:983] successful NUMA node read from SysFS had negative value (-1), but there must be at least one NUMA node, so returning NUMA node zero\n",
            "2022-04-21 23:08:07.677500: I tensorflow/compiler/xla/service/service.cc:168] XLA service 0x55fc60cf0a80 initialized for platform CUDA (this does not guarantee that XLA will be used). Devices:\n",
            "2022-04-21 23:08:07.677535: I tensorflow/compiler/xla/service/service.cc:176]   StreamExecutor device (0): Tesla T4, Compute Capability 7.5\n",
            "2022-04-21 23:08:07.677735: I tensorflow/stream_executor/cuda/cuda_gpu_executor.cc:983] successful NUMA node read from SysFS had negative value (-1), but there must be at least one NUMA node, so returning NUMA node zero\n",
            "2022-04-21 23:08:07.678277: I tensorflow/core/common_runtime/gpu/gpu_device.cc:1639] Found device 0 with properties: \n",
            "name: Tesla T4 major: 7 minor: 5 memoryClockRate(GHz): 1.59\n",
            "pciBusID: 0000:00:04.0\n",
            "2022-04-21 23:08:07.678349: I tensorflow/stream_executor/platform/default/dso_loader.cc:44] Successfully opened dynamic library libcudart.so.10.1\n",
            "2022-04-21 23:08:07.678374: I tensorflow/stream_executor/platform/default/dso_loader.cc:44] Successfully opened dynamic library libcublas.so.10\n",
            "2022-04-21 23:08:07.678396: I tensorflow/stream_executor/platform/default/dso_loader.cc:44] Successfully opened dynamic library libcufft.so.10\n",
            "2022-04-21 23:08:07.678417: I tensorflow/stream_executor/platform/default/dso_loader.cc:44] Successfully opened dynamic library libcurand.so.10\n",
            "2022-04-21 23:08:07.678442: I tensorflow/stream_executor/platform/default/dso_loader.cc:44] Successfully opened dynamic library libcusolver.so.10\n",
            "2022-04-21 23:08:07.678473: I tensorflow/stream_executor/platform/default/dso_loader.cc:44] Successfully opened dynamic library libcusparse.so.10\n",
            "2022-04-21 23:08:07.678494: I tensorflow/stream_executor/platform/default/dso_loader.cc:44] Successfully opened dynamic library libcudnn.so.7\n",
            "2022-04-21 23:08:07.678574: I tensorflow/stream_executor/cuda/cuda_gpu_executor.cc:983] successful NUMA node read from SysFS had negative value (-1), but there must be at least one NUMA node, so returning NUMA node zero\n",
            "2022-04-21 23:08:07.679131: I tensorflow/stream_executor/cuda/cuda_gpu_executor.cc:983] successful NUMA node read from SysFS had negative value (-1), but there must be at least one NUMA node, so returning NUMA node zero\n",
            "2022-04-21 23:08:07.679653: I tensorflow/core/common_runtime/gpu/gpu_device.cc:1767] Adding visible gpu devices: 0\n",
            "2022-04-21 23:08:07.682841: I tensorflow/stream_executor/platform/default/dso_loader.cc:44] Successfully opened dynamic library libcudart.so.10.1\n",
            "2022-04-21 23:08:07.684256: I tensorflow/core/common_runtime/gpu/gpu_device.cc:1180] Device interconnect StreamExecutor with strength 1 edge matrix:\n",
            "2022-04-21 23:08:07.684288: I tensorflow/core/common_runtime/gpu/gpu_device.cc:1186]      0 \n",
            "2022-04-21 23:08:07.684301: I tensorflow/core/common_runtime/gpu/gpu_device.cc:1199] 0:   N \n",
            "2022-04-21 23:08:07.685488: I tensorflow/stream_executor/cuda/cuda_gpu_executor.cc:983] successful NUMA node read from SysFS had negative value (-1), but there must be at least one NUMA node, so returning NUMA node zero\n",
            "2022-04-21 23:08:07.686150: I tensorflow/stream_executor/cuda/cuda_gpu_executor.cc:983] successful NUMA node read from SysFS had negative value (-1), but there must be at least one NUMA node, so returning NUMA node zero\n",
            "2022-04-21 23:08:07.686769: W tensorflow/core/common_runtime/gpu/gpu_bfc_allocator.cc:39] Overriding allow_growth setting because the TF_FORCE_GPU_ALLOW_GROWTH environment variable is set. Original config value was 0.\n",
            "2022-04-21 23:08:07.686814: I tensorflow/core/common_runtime/gpu/gpu_device.cc:1325] Created TensorFlow device (/job:localhost/replica:0/task:0/device:GPU:0 with 14257 MB memory) -> physical GPU (device: 0, name: Tesla T4, pci bus id: 0000:00:04.0, compute capability: 7.5)\n",
            "WARNING:tensorflow:From src/generate_unconditional_samples.py:56: The name tf.set_random_seed is deprecated. Please use tf.compat.v1.set_random_seed instead.\n",
            "\n",
            "WARNING:tensorflow:From /content/gpt-2/src/sample.py:51: The name tf.AUTO_REUSE is deprecated. Please use tf.compat.v1.AUTO_REUSE instead.\n",
            "\n",
            "WARNING:tensorflow:From /content/gpt-2/src/model.py:148: The name tf.variable_scope is deprecated. Please use tf.compat.v1.variable_scope instead.\n",
            "\n",
            "WARNING:tensorflow:From /content/gpt-2/src/model.py:152: The name tf.get_variable is deprecated. Please use tf.compat.v1.get_variable instead.\n",
            "\n",
            "WARNING:tensorflow:From /content/gpt-2/src/model.py:36: The name tf.rsqrt is deprecated. Please use tf.math.rsqrt instead.\n",
            "\n",
            "WARNING:tensorflow:From /content/gpt-2/src/sample.py:64: to_float (from tensorflow.python.ops.math_ops) is deprecated and will be removed in a future version.\n",
            "Instructions for updating:\n",
            "Use `tf.cast` instead.\n",
            "WARNING:tensorflow:From /content/gpt-2/src/sample.py:16: where (from tensorflow.python.ops.array_ops) is deprecated and will be removed in a future version.\n",
            "Instructions for updating:\n",
            "Use tf.where in 2.0, which has the same broadcast rule as np.where\n",
            "WARNING:tensorflow:From /content/gpt-2/src/sample.py:67: multinomial (from tensorflow.python.ops.random_ops) is deprecated and will be removed in a future version.\n",
            "Instructions for updating:\n",
            "Use `tf.random.categorical` instead.\n",
            "WARNING:tensorflow:From src/generate_unconditional_samples.py:65: The name tf.train.Saver is deprecated. Please use tf.compat.v1.train.Saver instead.\n",
            "\n",
            "2022-04-21 23:08:15.367594: I tensorflow/stream_executor/platform/default/dso_loader.cc:44] Successfully opened dynamic library libcublas.so.10\n",
            "======================================== SAMPLE 1 ========================================\n",
            "The National Archives, a public institution dedicated to protecting the preservation of America's sacred collections, is the most modern collection in the American National Library. Like every museum, the National Archives boasts several new exhibits at a time—new exhibitions about American history and art. But a series of new \"re-releases,\" including the latest edition of The American Revolution in 1775, have brought in more than $1 billion in public funding, creating a much-needed library that includes nearly three million books and hundreds of thousands of artifacts. The new volumes of The American Revolution, an exhaustive look at the historical and creative life of the American Revolution, are part of such a massive collection of American history and art that the Library of Congress is opening nearly 30 new collections between now and the end of May. (The National Archives also has expanded its \"re-release of The American Revolution series at the National Archives of the United States and Canada.\")\n",
            "\n",
            "The American Revolution, like almost every book and essay written\n",
            "======================================== SAMPLE 2 ========================================\n",
            "The world's oldest building is to be demolished in an attempt to end what's been perceived as Britain falling under a dictatorship that has turned a corner.\n",
            "\n",
            "It is being refurbished by private businessman and former First Minister Ed Davey, and will include a new cinema and an amusement park in Kensington and Chelsea.\n",
            "\n",
            "The world's oldest building is to be demolished in an attempt to end what's been perceived as Britain falling under a dictatorship\n",
            "\n",
            "Built in 1879 for 18,000 homes in Britain, and with the name of the building, it was known as 'Roulette' after Sir Ernest Shackleton, inventor of the first nuclear reactor. It will house 2,637 jobs and will remain standing in Kensington and Chelsea as an important military base until it is demolished.\n",
            "\n",
            "Mr Davey was seen by some as being a favourite when he founded the Rivetty Hotel, a luxury hotel hotel owned by former first minister Ed Davey.\n",
            "\n",
            "He\n",
            "======================================== SAMPLE 3 ========================================\n",
            "The next step is to put together a series from the archives in a more formal presentation. The documents must come down to a bare minimum of 4 pages to help you understand what they mean. There are a few things you ought to know before this:\n",
            "\n",
            "The \"first few pages\" are what's left, and include the pages describing a different version or a different version of the document.\n",
            "\n",
            "As with any copy of a document, the first page should be the original document.\n",
            "\n",
            "It should not be edited from here.\n",
            "\n",
            "Only the first \"Page 1\" of the \"First Page\" should be included in the package.\n",
            "\n",
            "The \"Last Page\" should include the following, although no \"Last Page\" should be included: Page 1 of 1 of the last page before the document is loaded into the console. The last page is to the right of the last page listed in any page's \"Other Pages\" menu if the one contained in that last page is missing\n",
            "======================================== SAMPLE 4 ========================================\n",
            "The US and US military both have a long-standing dispute over the terms of nuclear energy and the use of nuclear as an alternative energy source for defence. Washington does not like to see nuclear technology continue under the noses of Washington, and it continues to be an area in which the US has a keen interest.\n",
            "\n",
            "US Secretary of State John Kerry visited Washington in July 2003 in an effort to broker a peace deal in a difficult position, and to establish a working group that saw Iran agree to terms with the US.\n",
            "\n",
            "The two countries signed the deal in July 2005 – which ended the 1953 US's nuclear programme – and the US has been involved in talks over its nuclear programme for decades, and is the US partner in developing a policy that limits the proliferation of nuclear weapons.\n",
            "\n",
            "A key issue on the negotiation front is the possibility of a deal on nuclear proliferation, after decades of negotiations on both sides of the fence.\n",
            "\n",
            "Russia has maintained that the US needs to be on the\n",
            "======================================== SAMPLE 5 ========================================\n",
            "This project was designed to bring our team together to make the most efficient way to share and develop an awesome app which will help people learn to read, write and write. The process is really very simple and easy so we really recommend any of you who knows it get involved.\n",
            "\n",
            "Here is the first step to this project (sorry for the length):\n",
            "\n",
            "Step 1. Download the current and last version of OpenTTD\n",
            "\n",
            "To run this project:\n",
            "\n",
            "$ cd to git clone https://github.com/openttd.github/OpenTTD-app.git\n",
            "\n",
            "Step 2. Download the latest and current version of the OpenTTD library\n",
            "\n",
            "You will need to install openttd as well as the dependencies such as curl, curl_init, libssl/ssl-dev, libuv, libavm64/avm-dev, and libttdl. The recommended packages are :\n",
            "\n",
            "libutex/unzip\n",
            "\n",
            "lib\n"
          ]
        }
      ]
    },
    {
      "cell_type": "markdown",
      "source": [
        "모델이 생성한 Sample 문단을 살펴보니 이야기를 어색하지 않게 생성한 것을 확인할 수 있다."
      ],
      "metadata": {
        "id": "aUSEnj_BYutW"
      }
    },
    {
      "cell_type": "code",
      "source": [
        ""
      ],
      "metadata": {
        "id": "PlfcY93EY4_P"
      },
      "execution_count": null,
      "outputs": []
    }
  ]
}