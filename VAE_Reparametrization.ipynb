{
  "nbformat": 4,
  "nbformat_minor": 0,
  "metadata": {
    "colab": {
      "name": "VAE_Reparametrization.ipynb",
      "version": "0.3.2",
      "provenance": [],
      "include_colab_link": true
    },
    "kernelspec": {
      "name": "python3",
      "display_name": "Python 3"
    }
  },
  "cells": [
    {
      "cell_type": "markdown",
      "metadata": {
        "id": "view-in-github",
        "colab_type": "text"
      },
      "source": [
        "<a href=\"https://colab.research.google.com/github/sabumjung/DL-test/blob/master/VAE_Reparametrization.ipynb\" target=\"_parent\"><img src=\"https://colab.research.google.com/assets/colab-badge.svg\" alt=\"Open In Colab\"/></a>"
      ]
    },
    {
      "cell_type": "code",
      "metadata": {
        "id": "p8rvh4CCvHqI",
        "colab_type": "code",
        "colab": {}
      },
      "source": [
        "import tensorflow as tf"
      ],
      "execution_count": 0,
      "outputs": []
    },
    {
      "cell_type": "code",
      "metadata": {
        "id": "_YLqpTdcvIZu",
        "colab_type": "code",
        "colab": {}
      },
      "source": [
        "tf.reset_default_graph()\n",
        "\n",
        "delta = tf.get_variable('delta', initializer=1.)  # Our only param\n",
        "x = tf.random_uniform((), -1., 1.)  # Input\n",
        "# optimization parameter is stochastic\n",
        "y = tf.random_normal((), mean=x, stddev=delta)  # Output\n",
        "loss = tf.losses.mean_squared_error(y, x)\n",
        "apply_update = tf.train.GradientDescentOptimizer(0.1).minimize(loss)"
      ],
      "execution_count": 0,
      "outputs": []
    },
    {
      "cell_type": "code",
      "metadata": {
        "id": "J2Wk6wcEvKKb",
        "colab_type": "code",
        "colab": {
          "base_uri": "https://localhost:8080/",
          "height": 35
        },
        "outputId": "e0b332a7-3b80-4d9d-8699-b8740863d4f9"
      },
      "source": [
        "sess = tf.InteractiveSession()\n",
        "sess.run(tf.global_variables_initializer())\n",
        "for _ in range(100):\n",
        "    sess.run(apply_update)\n",
        "print(sess.run(loss), sess.run(delta))\n",
        "sess.close()"
      ],
      "execution_count": 27,
      "outputs": [
        {
          "output_type": "stream",
          "text": [
            "0.0 1.1517087e-08\n"
          ],
          "name": "stdout"
        }
      ]
    },
    {
      "cell_type": "code",
      "metadata": {
        "id": "eaHErp4OvN7v",
        "colab_type": "code",
        "colab": {}
      },
      "source": [
        "tf.reset_default_graph()\n",
        "\n",
        "delta = tf.get_variable('delta2', initializer=1.)\n",
        "x = tf.random_uniform((), -1., 1.)\n",
        "# Reparametrize and divide two parts(deterministic, stochastic)\n",
        "y = x + tf.random_normal((), mean=0., stddev=1.) * delta\n",
        "loss = tf.losses.mean_squared_error(y, x)\n",
        "apply_update = tf.train.GradientDescentOptimizer(0.1).minimize(loss)"
      ],
      "execution_count": 0,
      "outputs": []
    },
    {
      "cell_type": "code",
      "metadata": {
        "id": "ceqNTYLIvSst",
        "colab_type": "code",
        "colab": {
          "base_uri": "https://localhost:8080/",
          "height": 35
        },
        "outputId": "00682764-dd68-4b54-dbca-a469b8d85ffa"
      },
      "source": [
        "sess = tf.InteractiveSession()\n",
        "sess.run(tf.global_variables_initializer())\n",
        "for _ in range(100):\n",
        "    sess.run(apply_update)\n",
        "print(sess.run(loss), sess.run(delta))\n",
        "sess.close()"
      ],
      "execution_count": 29,
      "outputs": [
        {
          "output_type": "stream",
          "text": [
            "0.0 8.7500923e-10\n"
          ],
          "name": "stdout"
        }
      ]
    },
    {
      "cell_type": "code",
      "metadata": {
        "id": "YMJe-1yPvTsI",
        "colab_type": "code",
        "colab": {}
      },
      "source": [
        ""
      ],
      "execution_count": 0,
      "outputs": []
    }
  ]
}