{
  "nbformat": 4,
  "nbformat_minor": 0,
  "metadata": {
    "colab": {
      "name": "gradient_pytorch.ipynb",
      "version": "0.3.2",
      "provenance": [],
      "include_colab_link": true
    },
    "kernelspec": {
      "name": "python2",
      "display_name": "Python 2"
    },
    "accelerator": "GPU"
  },
  "cells": [
    {
      "cell_type": "markdown",
      "metadata": {
        "id": "view-in-github",
        "colab_type": "text"
      },
      "source": [
        "<a href=\"https://colab.research.google.com/github/sabumjung/Pytorch/blob/master/gradient_pytorch.ipynb\" target=\"_parent\"><img src=\"https://colab.research.google.com/assets/colab-badge.svg\" alt=\"Open In Colab\"/></a>"
      ]
    },
    {
      "metadata": {
        "id": "avZ61H4t6zAt",
        "colab_type": "code",
        "colab": {}
      },
      "cell_type": "code",
      "source": [
        "import numpy as np\n",
        "a=np.ones(10)\n",
        "b=np.ones(10)*2\n",
        "c=b*a\n",
        "d=c+1"
      ],
      "execution_count": 0,
      "outputs": []
    },
    {
      "metadata": {
        "id": "40Z7tG49Awxm",
        "colab_type": "code",
        "colab": {}
      },
      "cell_type": "code",
      "source": [
        "a=torch.Tensor([1,0])\n"
      ],
      "execution_count": 0,
      "outputs": []
    },
    {
      "metadata": {
        "id": "rImZPi587OZi",
        "colab_type": "code",
        "colab": {
          "base_uri": "https://localhost:8080/",
          "height": 197
        },
        "outputId": "9472aa2d-a53c-465a-c5ca-cfa74f4337ff"
      },
      "cell_type": "code",
      "source": [
        "import torch\n",
        "from torch.autograd import Variable\n",
        "from datetime import datetime\n",
        "start=datetime.now()\n",
        "\n",
        "N,D=3,4\n",
        "\n",
        "x=Variable(torch.randn(N,D).cuda(), requires_grad=True)\n",
        "y=Variable(torch.randn(N,D).cuda(), requires_grad=True)\n",
        "z=Variable(torch.randn(N,D).cuda(), requires_grad=True)\n",
        "\n",
        "a=x*y\n",
        "b=a+z\n",
        "c=torch.sum(b)\n",
        "\n",
        "# c.backward()\n",
        "c.backward()\n",
        "\n",
        "print(x.grad)\n",
        "print(y.grad)\n",
        "print(z.grad)\n",
        "print(datetime.now()-start)"
      ],
      "execution_count": 19,
      "outputs": [
        {
          "output_type": "stream",
          "text": [
            "tensor([[-1.5325, -0.6167, -0.2168,  0.7045],\n",
            "        [-0.5803, -0.4136,  0.7429, -0.3038],\n",
            "        [ 1.5163, -1.2448, -1.1481,  0.1926]], device='cuda:0')\n",
            "tensor([[ 0.1713, -0.5186,  1.8024, -0.6330],\n",
            "        [-0.2922, -0.4246,  0.4898, -0.0809],\n",
            "        [ 0.4006,  0.8225,  1.1086,  1.5215]], device='cuda:0')\n",
            "tensor([[1., 1., 1., 1.],\n",
            "        [1., 1., 1., 1.],\n",
            "        [1., 1., 1., 1.]], device='cuda:0')\n",
            "0:00:00.008046\n"
          ],
          "name": "stdout"
        }
      ]
    },
    {
      "metadata": {
        "id": "l17mS1nD9R9e",
        "colab_type": "code",
        "colab": {
          "base_uri": "https://localhost:8080/",
          "height": 55
        },
        "outputId": "9a174576-d2c3-4189-82a4-145c5d79cbc6"
      },
      "cell_type": "code",
      "source": [
        "# http://pytorch.org/\n",
        "from os.path import exists\n",
        "from wheel.pep425tags import get_abbr_impl, get_impl_ver, get_abi_tag\n",
        "platform = '{}{}-{}'.format(get_abbr_impl(), get_impl_ver(), get_abi_tag())\n",
        "cuda_output = !ldconfig -p|grep cudart.so|sed -e 's/.*\\.\\([0-9]*\\)\\.\\([0-9]*\\)$/cu\\1\\2/'\n",
        "accelerator = cuda_output[0] if exists('/dev/nvidia0') else 'cpu'\n",
        "\n",
        "!pip install -q http://download.pytorch.org/whl/{accelerator}/torch-0.4.1-{platform}-linux_x86_64.whl torchvision\n",
        "import torch"
      ],
      "execution_count": 4,
      "outputs": [
        {
          "output_type": "stream",
          "text": [
            "tcmalloc: large alloc 1073750016 bytes == 0x5577c7690000 @  0x7f2e4dffe2a4 0x55776f19ab68 0x55776f28692d 0x55776f1ae01a 0x55776f1b2d72 0x55776f1ab8ca 0x55776f1b324e 0x55776f1ab8ca 0x55776f1b324e 0x55776f1ab8ca 0x55776f1b324e 0x55776f1ab8ca 0x55776f1b37d3 0x55776f1ab8ca 0x55776f1b324e 0x55776f1ab8ca 0x55776f1b324e 0x55776f1b2d72 0x55776f1b2d72 0x55776f1ab8ca 0x55776f1b37d3 0x55776f1b2d72 0x55776f1ab8ca 0x55776f1b37d3 0x55776f1ab8ca 0x55776f1b37d3 0x55776f1ab8ca 0x55776f1b324e 0x55776f1ab8ca 0x55776f1ab1e9 0x55776f1dbbdf\n"
          ],
          "name": "stdout"
        }
      ]
    },
    {
      "metadata": {
        "id": "bRLELloJ7YnO",
        "colab_type": "code",
        "colab": {}
      },
      "cell_type": "code",
      "source": [
        "import torch\n",
        "from torch.autograd import Variable"
      ],
      "execution_count": 0,
      "outputs": []
    },
    {
      "metadata": {
        "id": "AOK3Ecv2CI2g",
        "colab_type": "code",
        "colab": {
          "base_uri": "https://localhost:8080/",
          "height": 53
        },
        "outputId": "c685031f-64fb-4e38-f24e-a707d07c00c9"
      },
      "cell_type": "code",
      "source": [
        "x=Variable(torch.ones(2,2), requires_grad=True)\n",
        "print(x)"
      ],
      "execution_count": 21,
      "outputs": [
        {
          "output_type": "stream",
          "text": [
            "tensor([[1., 1.],\n",
            "        [1., 1.]], requires_grad=True)\n"
          ],
          "name": "stdout"
        }
      ]
    },
    {
      "metadata": {
        "id": "XBA8mrYdCMeN",
        "colab_type": "code",
        "colab": {
          "base_uri": "https://localhost:8080/",
          "height": 53
        },
        "outputId": "10f622b2-5317-4bc6-8385-4ad852fcbd11"
      },
      "cell_type": "code",
      "source": [
        "y=x+2\n",
        "print(y)"
      ],
      "execution_count": 22,
      "outputs": [
        {
          "output_type": "stream",
          "text": [
            "tensor([[3., 3.],\n",
            "        [3., 3.]], grad_fn=<AddBackward>)\n"
          ],
          "name": "stdout"
        }
      ]
    },
    {
      "metadata": {
        "id": "a9QXOgX6CPal",
        "colab_type": "code",
        "colab": {
          "base_uri": "https://localhost:8080/",
          "height": 35
        },
        "outputId": "b296d4b3-6db6-452f-9bab-296c5c05c613"
      },
      "cell_type": "code",
      "source": [
        "print(y.grad_fn)"
      ],
      "execution_count": 23,
      "outputs": [
        {
          "output_type": "stream",
          "text": [
            "<AddBackward object at 0x7fc8d573c810>\n"
          ],
          "name": "stdout"
        }
      ]
    },
    {
      "metadata": {
        "id": "gAhGJQo9CR4k",
        "colab_type": "code",
        "colab": {
          "base_uri": "https://localhost:8080/",
          "height": 125
        },
        "outputId": "2afa7f68-5e4d-4304-df3e-eee7f4953408"
      },
      "cell_type": "code",
      "source": [
        "z=y*y*3\n",
        "out=z.mean()\n",
        "out1=z.std()\n",
        "\n",
        "print(z)\n",
        "print(\"---\"*5)\n",
        "print(out)\n",
        "print(\"---\"*5)\n",
        "print(out1)"
      ],
      "execution_count": 28,
      "outputs": [
        {
          "output_type": "stream",
          "text": [
            "tensor([[27., 27.],\n",
            "        [27., 27.]], grad_fn=<MulBackward>)\n",
            "---------------\n",
            "tensor(27., grad_fn=<MeanBackward1>)\n",
            "---------------\n",
            "tensor(0., grad_fn=<StdBackward0>)\n"
          ],
          "name": "stdout"
        }
      ]
    },
    {
      "metadata": {
        "id": "hty26Q2LCaVv",
        "colab_type": "code",
        "colab": {
          "base_uri": "https://localhost:8080/",
          "height": 35
        },
        "outputId": "f338831d-d1d7-43ba-c484-ff627d3c75e7"
      },
      "cell_type": "code",
      "source": [
        "print(y.grad_fn)"
      ],
      "execution_count": 25,
      "outputs": [
        {
          "output_type": "stream",
          "text": [
            "<AddBackward object at 0x7fc8d573c590>\n"
          ],
          "name": "stdout"
        }
      ]
    },
    {
      "metadata": {
        "id": "M7eA8UcbCko3",
        "colab_type": "code",
        "colab": {
          "base_uri": "https://localhost:8080/",
          "height": 35
        },
        "outputId": "791ff489-518f-4686-bb8f-d2f2e3a4be1a"
      },
      "cell_type": "code",
      "source": [
        "print(out.backward())"
      ],
      "execution_count": 29,
      "outputs": [
        {
          "output_type": "stream",
          "text": [
            "None\n"
          ],
          "name": "stdout"
        }
      ]
    },
    {
      "metadata": {
        "id": "SgxWjQCiDHyW",
        "colab_type": "code",
        "colab": {
          "base_uri": "https://localhost:8080/",
          "height": 89
        },
        "outputId": "74cf8a06-ffdf-4637-8c8f-cf70574bbaae"
      },
      "cell_type": "code",
      "source": [
        "print(x)\n",
        "print(x.grad)"
      ],
      "execution_count": 31,
      "outputs": [
        {
          "output_type": "stream",
          "text": [
            "tensor([[1., 1.],\n",
            "        [1., 1.]], requires_grad=True)\n",
            "tensor([[4.5000, 4.5000],\n",
            "        [4.5000, 4.5000]])\n"
          ],
          "name": "stdout"
        }
      ]
    },
    {
      "metadata": {
        "id": "U9YmcEguDJOF",
        "colab_type": "code",
        "colab": {
          "base_uri": "https://localhost:8080/",
          "height": 35
        },
        "outputId": "4b205552-f5fc-4916-d42c-47416ae46321"
      },
      "cell_type": "code",
      "source": [
        "x=torch.randn(3)\n",
        "x=Variable(x, requires_grad=True)\n",
        "print(x)\n"
      ],
      "execution_count": 35,
      "outputs": [
        {
          "output_type": "stream",
          "text": [
            "tensor([ 0.2183, -0.2365, -1.4999], requires_grad=True)\n"
          ],
          "name": "stdout"
        }
      ]
    },
    {
      "metadata": {
        "id": "t8Qx7x_YEWFU",
        "colab_type": "code",
        "colab": {
          "base_uri": "https://localhost:8080/",
          "height": 53
        },
        "outputId": "fa4ec20a-0b98-4112-b3f2-37d949905ea4"
      },
      "cell_type": "code",
      "source": [
        "y=x*2\n",
        "print(y)\n",
        "\n",
        "while y.data.norm()<1000:\n",
        "  y=y*2\n",
        "print(y)"
      ],
      "execution_count": 36,
      "outputs": [
        {
          "output_type": "stream",
          "text": [
            "tensor([ 0.4366, -0.4729, -2.9999], grad_fn=<MulBackward>)\n",
            "tensor([  223.5169,  -242.1406, -1535.9453], grad_fn=<MulBackward>)\n"
          ],
          "name": "stdout"
        }
      ]
    },
    {
      "metadata": {
        "id": "9uKotoQ7EaEG",
        "colab_type": "code",
        "colab": {
          "base_uri": "https://localhost:8080/",
          "height": 35
        },
        "outputId": "375d035e-137c-4eea-c22b-56e531a718dd"
      },
      "cell_type": "code",
      "source": [
        "gradients=torch.FloatTensor([0.1, 1.0, 0.0001])\n",
        "y.backward(gradients)\n",
        "print(x.grad)\n"
      ],
      "execution_count": 38,
      "outputs": [
        {
          "output_type": "stream",
          "text": [
            "tensor([ 102.4000, 1024.0000,    0.1024])\n"
          ],
          "name": "stdout"
        }
      ]
    },
    {
      "metadata": {
        "id": "R0e_RQJtEc5k",
        "colab_type": "code",
        "colab": {}
      },
      "cell_type": "code",
      "source": [
        ""
      ],
      "execution_count": 0,
      "outputs": []
    }
  ]
}